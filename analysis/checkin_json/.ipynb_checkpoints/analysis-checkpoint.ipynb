{
 "cells": [
  {
   "cell_type": "code",
   "execution_count": 1,
   "metadata": {
    "collapsed": true
   },
   "outputs": [],
   "source": [
    "import pandas as pd\n",
    "import matplotlib.pyplot as plt\n",
    "from prettytable import PrettyTable\n",
    "from collections import Counter\n",
    "import operator\n",
    "%matplotlib inline\n",
    "TOP = 15"
   ]
  },
  {
   "cell_type": "code",
   "execution_count": 2,
   "metadata": {
    "collapsed": true
   },
   "outputs": [],
   "source": [
    "df_business = pd.read_json('../../dataset/business.json', lines=True)"
   ]
  },
  {
   "cell_type": "code",
   "execution_count": 3,
   "metadata": {
    "collapsed": true
   },
   "outputs": [],
   "source": [
    "df_checkin = pd.read_json('../../dataset/checkin.json', lines=True)"
   ]
  },
  {
   "cell_type": "code",
   "execution_count": 4,
   "metadata": {
    "collapsed": true
   },
   "outputs": [],
   "source": [
    "top_cities = [\"Las Vegas\",\"Phoenix\",\"Toronto\",\"Charlotte\",\"Scottsdale\",\n",
    "              \"Pittsburgh\",\"Montréal\",\"Mesa\",\"Henderson\",\"Tempe\",\"Chandler\",\"Edinburgh\",\"Cleveland\",\"Madison\",\"Glendale\"]"
   ]
  },
  {
   "cell_type": "code",
   "execution_count": 5,
   "metadata": {},
   "outputs": [
    {
     "data": {
      "text/html": [
       "<div>\n",
       "<style>\n",
       "    .dataframe thead tr:only-child th {\n",
       "        text-align: right;\n",
       "    }\n",
       "\n",
       "    .dataframe thead th {\n",
       "        text-align: left;\n",
       "    }\n",
       "\n",
       "    .dataframe tbody tr th {\n",
       "        vertical-align: top;\n",
       "    }\n",
       "</style>\n",
       "<table border=\"1\" class=\"dataframe\">\n",
       "  <thead>\n",
       "    <tr style=\"text-align: right;\">\n",
       "      <th></th>\n",
       "      <th>business_id</th>\n",
       "      <th>time</th>\n",
       "    </tr>\n",
       "  </thead>\n",
       "  <tbody>\n",
       "    <tr>\n",
       "      <th>0</th>\n",
       "      <td>7KPBkxAOEtb3QeIL9PEErg</td>\n",
       "      <td>{'Thursday': {'21:00': 4, '1:00': 1, '4:00': 1...</td>\n",
       "    </tr>\n",
       "    <tr>\n",
       "      <th>1</th>\n",
       "      <td>kREVIrSBbtqBhIYkTccQUg</td>\n",
       "      <td>{'Monday': {'13:00': 1}, 'Thursday': {'20:00':...</td>\n",
       "    </tr>\n",
       "    <tr>\n",
       "      <th>2</th>\n",
       "      <td>tJRDll5yqpZwehenzE2cSg</td>\n",
       "      <td>{'Monday': {'12:00': 1, '1:00': 1}, 'Saturday'...</td>\n",
       "    </tr>\n",
       "    <tr>\n",
       "      <th>3</th>\n",
       "      <td>nhZ1HGWD8lMErdn3FuWuTQ</td>\n",
       "      <td>{'Sunday': {'18:00': 1, '17:00': 2, '22:00': 1...</td>\n",
       "    </tr>\n",
       "    <tr>\n",
       "      <th>4</th>\n",
       "      <td>vDoXZGE7p6xAkKQ0XQPvoA</td>\n",
       "      <td>{'Thursday': {'15:00': 1}, 'Saturday': {'23:00...</td>\n",
       "    </tr>\n",
       "  </tbody>\n",
       "</table>\n",
       "</div>"
      ],
      "text/plain": [
       "              business_id                                               time\n",
       "0  7KPBkxAOEtb3QeIL9PEErg  {'Thursday': {'21:00': 4, '1:00': 1, '4:00': 1...\n",
       "1  kREVIrSBbtqBhIYkTccQUg  {'Monday': {'13:00': 1}, 'Thursday': {'20:00':...\n",
       "2  tJRDll5yqpZwehenzE2cSg  {'Monday': {'12:00': 1, '1:00': 1}, 'Saturday'...\n",
       "3  nhZ1HGWD8lMErdn3FuWuTQ  {'Sunday': {'18:00': 1, '17:00': 2, '22:00': 1...\n",
       "4  vDoXZGE7p6xAkKQ0XQPvoA  {'Thursday': {'15:00': 1}, 'Saturday': {'23:00..."
      ]
     },
     "execution_count": 5,
     "metadata": {},
     "output_type": "execute_result"
    }
   ],
   "source": [
    "df_checkin.head(5)"
   ]
  },
  {
   "cell_type": "code",
   "execution_count": 6,
   "metadata": {
    "collapsed": true
   },
   "outputs": [],
   "source": [
    "df_checkin = pd.merge(df_checkin, df_business[['business_id','latitude','longitude','name','categories','city','neighborhood','review_count','stars']], on='business_id', how='left')"
   ]
  },
  {
   "cell_type": "code",
   "execution_count": 7,
   "metadata": {},
   "outputs": [
    {
     "data": {
      "text/plain": [
       "business_id      object\n",
       "time             object\n",
       "latitude        float64\n",
       "longitude       float64\n",
       "name             object\n",
       "categories       object\n",
       "city             object\n",
       "neighborhood     object\n",
       "review_count      int64\n",
       "stars           float64\n",
       "dtype: object"
      ]
     },
     "execution_count": 7,
     "metadata": {},
     "output_type": "execute_result"
    }
   ],
   "source": [
    "df_checkin.dtypes"
   ]
  },
  {
   "cell_type": "code",
   "execution_count": 8,
   "metadata": {},
   "outputs": [
    {
     "name": "stdout",
     "output_type": "stream",
     "text": [
      "Total Checkins: 135148\n"
     ]
    }
   ],
   "source": [
    "df_checkin.shape\n",
    "print(\"Total Checkins: {}\".format(df_checkin.shape[0]))"
   ]
  },
  {
   "cell_type": "code",
   "execution_count": 9,
   "metadata": {
    "collapsed": true
   },
   "outputs": [],
   "source": [
    "c_weekday = Counter()\n",
    "c_weekend = Counter()\n",
    "\n",
    "\n",
    "def sum_time(df):\n",
    "    c = Counter()\n",
    "    for times in df:    \n",
    "        for day in times:\n",
    "            c.update(times[day])    \n",
    "    return sorted(c.items(), key=operator.itemgetter(1))[-3:]\n",
    "#             = Counter()\n",
    "#             if day in ['Monday','Tuesday','Wednesday','Thursday']:\n",
    "#                 c_weekday.update(times[day])\n",
    "#             else:\n",
    "#                 c_weekend.update(times[day])\n",
    "    \n",
    "group = df_checkin.groupby(['city']).agg({'time': sum_time})"
   ]
  },
  {
   "cell_type": "code",
   "execution_count": 60,
   "metadata": {},
   "outputs": [],
   "source": [
    "group = group.reset_index()\n",
    "cities = pd.DataFrame({'city':top_cities, 'matched':True})\n",
    "group = group.merge(cities,how='inner',on='city')\n",
    "\n"
   ]
  },
  {
   "cell_type": "code",
   "execution_count": 66,
   "metadata": {},
   "outputs": [
    {
     "data": {
      "text/html": [
       "<div>\n",
       "<style>\n",
       "    .dataframe thead tr:only-child th {\n",
       "        text-align: right;\n",
       "    }\n",
       "\n",
       "    .dataframe thead th {\n",
       "        text-align: left;\n",
       "    }\n",
       "\n",
       "    .dataframe tbody tr th {\n",
       "        vertical-align: top;\n",
       "    }\n",
       "</style>\n",
       "<table border=\"1\" class=\"dataframe\">\n",
       "  <thead>\n",
       "    <tr style=\"text-align: right;\">\n",
       "      <th></th>\n",
       "      <th>city</th>\n",
       "      <th>time</th>\n",
       "    </tr>\n",
       "  </thead>\n",
       "  <tbody>\n",
       "    <tr>\n",
       "      <th>0</th>\n",
       "      <td>Chandler</td>\n",
       "      <td>[(2:00, 34479), (19:00, 36988), (1:00, 39656)]</td>\n",
       "    </tr>\n",
       "    <tr>\n",
       "      <th>1</th>\n",
       "      <td>Charlotte</td>\n",
       "      <td>[(22:00, 64241), (17:00, 64472), (23:00, 72857)]</td>\n",
       "    </tr>\n",
       "    <tr>\n",
       "      <th>2</th>\n",
       "      <td>Cleveland</td>\n",
       "      <td>[(0:00, 21725), (22:00, 23961), (23:00, 25273)]</td>\n",
       "    </tr>\n",
       "    <tr>\n",
       "      <th>3</th>\n",
       "      <td>Edinburgh</td>\n",
       "      <td>[(12:00, 7720), (17:00, 7822), (18:00, 8324)]</td>\n",
       "    </tr>\n",
       "    <tr>\n",
       "      <th>4</th>\n",
       "      <td>Glendale</td>\n",
       "      <td>[(0:00, 20438), (2:00, 20472), (1:00, 23372)]</td>\n",
       "    </tr>\n",
       "    <tr>\n",
       "      <th>5</th>\n",
       "      <td>Henderson</td>\n",
       "      <td>[(20:00, 51439), (2:00, 53762), (1:00, 54136)]</td>\n",
       "    </tr>\n",
       "    <tr>\n",
       "      <th>6</th>\n",
       "      <td>Las Vegas</td>\n",
       "      <td>[(20:00, 441484), (1:00, 447715), (2:00, 481180)]</td>\n",
       "    </tr>\n",
       "    <tr>\n",
       "      <th>7</th>\n",
       "      <td>Madison</td>\n",
       "      <td>[(1:00, 15968), (23:00, 18773), (0:00, 19747)]</td>\n",
       "    </tr>\n",
       "    <tr>\n",
       "      <th>8</th>\n",
       "      <td>Mesa</td>\n",
       "      <td>[(2:00, 30860), (19:00, 31840), (1:00, 34917)]</td>\n",
       "    </tr>\n",
       "    <tr>\n",
       "      <th>9</th>\n",
       "      <td>Montréal</td>\n",
       "      <td>[(22:00, 17128), (0:00, 17196), (23:00, 18541)]</td>\n",
       "    </tr>\n",
       "    <tr>\n",
       "      <th>10</th>\n",
       "      <td>Phoenix</td>\n",
       "      <td>[(2:00, 170967), (19:00, 173996), (1:00, 188606)]</td>\n",
       "    </tr>\n",
       "    <tr>\n",
       "      <th>11</th>\n",
       "      <td>Pittsburgh</td>\n",
       "      <td>[(16:00, 36995), (22:00, 41485), (23:00, 43827)]</td>\n",
       "    </tr>\n",
       "    <tr>\n",
       "      <th>12</th>\n",
       "      <td>Scottsdale</td>\n",
       "      <td>[(0:00, 116834), (1:00, 128978), (19:00, 142432)]</td>\n",
       "    </tr>\n",
       "    <tr>\n",
       "      <th>13</th>\n",
       "      <td>Tempe</td>\n",
       "      <td>[(2:00, 49823), (19:00, 53595), (1:00, 54233)]</td>\n",
       "    </tr>\n",
       "    <tr>\n",
       "      <th>14</th>\n",
       "      <td>Toronto</td>\n",
       "      <td>[(0:00, 67390), (22:00, 67789), (23:00, 75615)]</td>\n",
       "    </tr>\n",
       "  </tbody>\n",
       "</table>\n",
       "</div>"
      ],
      "text/plain": [
       "          city                                               time\n",
       "0     Chandler     [(2:00, 34479), (19:00, 36988), (1:00, 39656)]\n",
       "1    Charlotte   [(22:00, 64241), (17:00, 64472), (23:00, 72857)]\n",
       "2    Cleveland    [(0:00, 21725), (22:00, 23961), (23:00, 25273)]\n",
       "3    Edinburgh      [(12:00, 7720), (17:00, 7822), (18:00, 8324)]\n",
       "4     Glendale      [(0:00, 20438), (2:00, 20472), (1:00, 23372)]\n",
       "5    Henderson     [(20:00, 51439), (2:00, 53762), (1:00, 54136)]\n",
       "6    Las Vegas  [(20:00, 441484), (1:00, 447715), (2:00, 481180)]\n",
       "7      Madison     [(1:00, 15968), (23:00, 18773), (0:00, 19747)]\n",
       "8         Mesa     [(2:00, 30860), (19:00, 31840), (1:00, 34917)]\n",
       "9     Montréal    [(22:00, 17128), (0:00, 17196), (23:00, 18541)]\n",
       "10     Phoenix  [(2:00, 170967), (19:00, 173996), (1:00, 188606)]\n",
       "11  Pittsburgh   [(16:00, 36995), (22:00, 41485), (23:00, 43827)]\n",
       "12  Scottsdale  [(0:00, 116834), (1:00, 128978), (19:00, 142432)]\n",
       "13       Tempe     [(2:00, 49823), (19:00, 53595), (1:00, 54233)]\n",
       "14     Toronto    [(0:00, 67390), (22:00, 67789), (23:00, 75615)]"
      ]
     },
     "execution_count": 66,
     "metadata": {},
     "output_type": "execute_result"
    }
   ],
   "source": [
    "group[['city','time']]"
   ]
  },
  {
   "cell_type": "code",
   "execution_count": null,
   "metadata": {
    "collapsed": true
   },
   "outputs": [],
   "source": []
  }
 ],
 "metadata": {
  "kernelspec": {
   "display_name": "Python 3",
   "language": "python",
   "name": "python3"
  },
  "language_info": {
   "codemirror_mode": {
    "name": "ipython",
    "version": 3
   },
   "file_extension": ".py",
   "mimetype": "text/x-python",
   "name": "python",
   "nbconvert_exporter": "python",
   "pygments_lexer": "ipython3",
   "version": "3.6.1"
  }
 },
 "nbformat": 4,
 "nbformat_minor": 2
}
