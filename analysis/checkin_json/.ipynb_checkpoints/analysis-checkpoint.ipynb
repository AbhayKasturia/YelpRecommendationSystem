{
 "cells": [
  {
   "cell_type": "code",
   "execution_count": 68,
   "metadata": {},
   "outputs": [],
   "source": [
    "import pandas as pd\n",
    "import matplotlib.pyplot as plt\n",
    "from prettytable import PrettyTable\n",
    "from collections import Counter\n",
    "import operator\n",
    "%matplotlib inline\n",
    "TOP = 15"
   ]
  },
  {
   "cell_type": "code",
   "execution_count": 4,
   "metadata": {
    "collapsed": true
   },
   "outputs": [],
   "source": [
    "df_business = pd.read_json('../../dataset/business.json', lines=True)"
   ]
  },
  {
   "cell_type": "code",
   "execution_count": 19,
   "metadata": {
    "collapsed": true
   },
   "outputs": [],
   "source": [
    "df_checkin = pd.read_json('../../dataset/checkin.json', lines=True)"
   ]
  },
  {
   "cell_type": "code",
   "execution_count": 20,
   "metadata": {},
   "outputs": [
    {
     "data": {
      "text/html": [
       "<div>\n",
       "<style>\n",
       "    .dataframe thead tr:only-child th {\n",
       "        text-align: right;\n",
       "    }\n",
       "\n",
       "    .dataframe thead th {\n",
       "        text-align: left;\n",
       "    }\n",
       "\n",
       "    .dataframe tbody tr th {\n",
       "        vertical-align: top;\n",
       "    }\n",
       "</style>\n",
       "<table border=\"1\" class=\"dataframe\">\n",
       "  <thead>\n",
       "    <tr style=\"text-align: right;\">\n",
       "      <th></th>\n",
       "      <th>business_id</th>\n",
       "      <th>time</th>\n",
       "    </tr>\n",
       "  </thead>\n",
       "  <tbody>\n",
       "    <tr>\n",
       "      <th>0</th>\n",
       "      <td>7KPBkxAOEtb3QeIL9PEErg</td>\n",
       "      <td>{'Thursday': {'21:00': 4, '1:00': 1, '4:00': 1...</td>\n",
       "    </tr>\n",
       "    <tr>\n",
       "      <th>1</th>\n",
       "      <td>kREVIrSBbtqBhIYkTccQUg</td>\n",
       "      <td>{'Monday': {'13:00': 1}, 'Thursday': {'20:00':...</td>\n",
       "    </tr>\n",
       "    <tr>\n",
       "      <th>2</th>\n",
       "      <td>tJRDll5yqpZwehenzE2cSg</td>\n",
       "      <td>{'Monday': {'12:00': 1, '1:00': 1}, 'Saturday'...</td>\n",
       "    </tr>\n",
       "    <tr>\n",
       "      <th>3</th>\n",
       "      <td>nhZ1HGWD8lMErdn3FuWuTQ</td>\n",
       "      <td>{'Sunday': {'18:00': 1, '17:00': 2, '22:00': 1...</td>\n",
       "    </tr>\n",
       "    <tr>\n",
       "      <th>4</th>\n",
       "      <td>vDoXZGE7p6xAkKQ0XQPvoA</td>\n",
       "      <td>{'Thursday': {'15:00': 1}, 'Saturday': {'23:00...</td>\n",
       "    </tr>\n",
       "  </tbody>\n",
       "</table>\n",
       "</div>"
      ],
      "text/plain": [
       "              business_id                                               time\n",
       "0  7KPBkxAOEtb3QeIL9PEErg  {'Thursday': {'21:00': 4, '1:00': 1, '4:00': 1...\n",
       "1  kREVIrSBbtqBhIYkTccQUg  {'Monday': {'13:00': 1}, 'Thursday': {'20:00':...\n",
       "2  tJRDll5yqpZwehenzE2cSg  {'Monday': {'12:00': 1, '1:00': 1}, 'Saturday'...\n",
       "3  nhZ1HGWD8lMErdn3FuWuTQ  {'Sunday': {'18:00': 1, '17:00': 2, '22:00': 1...\n",
       "4  vDoXZGE7p6xAkKQ0XQPvoA  {'Thursday': {'15:00': 1}, 'Saturday': {'23:00..."
      ]
     },
     "execution_count": 20,
     "metadata": {},
     "output_type": "execute_result"
    }
   ],
   "source": [
    "df_checkin.head(5)"
   ]
  },
  {
   "cell_type": "code",
   "execution_count": 24,
   "metadata": {},
   "outputs": [],
   "source": [
    "df_checkin = pd.merge(df_checkin, df_business[['business_id','latitude','longitude','name','categories','city','neighborhood','review_count','stars']], on='business_id', how='left')"
   ]
  },
  {
   "cell_type": "code",
   "execution_count": 25,
   "metadata": {},
   "outputs": [
    {
     "data": {
      "text/plain": [
       "business_id      object\n",
       "time             object\n",
       "latitude        float64\n",
       "longitude       float64\n",
       "name             object\n",
       "categories       object\n",
       "city             object\n",
       "neighborhood     object\n",
       "review_count      int64\n",
       "stars           float64\n",
       "dtype: object"
      ]
     },
     "execution_count": 25,
     "metadata": {},
     "output_type": "execute_result"
    }
   ],
   "source": [
    "df_checkin.dtypes"
   ]
  },
  {
   "cell_type": "code",
   "execution_count": 26,
   "metadata": {},
   "outputs": [
    {
     "name": "stdout",
     "output_type": "stream",
     "text": [
      "Total Business: 135148\n"
     ]
    }
   ],
   "source": [
    "df_checkin.shape\n",
    "print(\"Total Checkins: {}\".format(df_checkin.shape[0]))"
   ]
  },
  {
   "cell_type": "code",
   "execution_count": 127,
   "metadata": {},
   "outputs": [],
   "source": [
    "c_weekday = Counter()\n",
    "c_weekend = Counter()\n",
    "\n",
    "\n",
    "def sum_time(df):\n",
    "    c = Counter()\n",
    "    for times in df:    \n",
    "        for day in times:\n",
    "            c.update(times[day])    \n",
    "    return sorted(c.items(), key=operator.itemgetter(1))[-3:]\n",
    "#             = Counter()\n",
    "#             if day in ['Monday','Tuesday','Wednesday','Thursday']:\n",
    "#                 c_weekday.update(times[day])\n",
    "#             else:\n",
    "#                 c_weekend.update(times[day])\n",
    "    \n",
    "group = df_checkin.groupby(['city']).agg({'time': sum_time})"
   ]
  },
  {
   "cell_type": "code",
   "execution_count": 128,
   "metadata": {},
   "outputs": [
    {
     "data": {
      "text/html": [
       "<div>\n",
       "<style>\n",
       "    .dataframe thead tr:only-child th {\n",
       "        text-align: right;\n",
       "    }\n",
       "\n",
       "    .dataframe thead th {\n",
       "        text-align: left;\n",
       "    }\n",
       "\n",
       "    .dataframe tbody tr th {\n",
       "        vertical-align: top;\n",
       "    }\n",
       "</style>\n",
       "<table border=\"1\" class=\"dataframe\">\n",
       "  <thead>\n",
       "    <tr style=\"text-align: right;\">\n",
       "      <th></th>\n",
       "      <th>time</th>\n",
       "    </tr>\n",
       "    <tr>\n",
       "      <th>city</th>\n",
       "      <th></th>\n",
       "    </tr>\n",
       "  </thead>\n",
       "  <tbody>\n",
       "    <tr>\n",
       "      <th>Downtown Toronto</th>\n",
       "      <td>[(21:00, 3), (17:00, 5), (18:00, 6)]</td>\n",
       "    </tr>\n",
       "    <tr>\n",
       "      <th>North Toronto</th>\n",
       "      <td>[(21:00, 4), (0:00, 5), (23:00, 6)]</td>\n",
       "    </tr>\n",
       "    <tr>\n",
       "      <th>Toronto</th>\n",
       "      <td>[(0:00, 67390), (22:00, 67789), (23:00, 75615)]</td>\n",
       "    </tr>\n",
       "    <tr>\n",
       "      <th>Toronto, Ontario</th>\n",
       "      <td>[(17:00, 40), (19:00, 50), (18:00, 64)]</td>\n",
       "    </tr>\n",
       "    <tr>\n",
       "      <th>West Toronto</th>\n",
       "      <td>[(3:00, 1)]</td>\n",
       "    </tr>\n",
       "  </tbody>\n",
       "</table>\n",
       "</div>"
      ],
      "text/plain": [
       "                                                             time\n",
       "city                                                             \n",
       "Downtown Toronto             [(21:00, 3), (17:00, 5), (18:00, 6)]\n",
       "North Toronto                 [(21:00, 4), (0:00, 5), (23:00, 6)]\n",
       "Toronto           [(0:00, 67390), (22:00, 67789), (23:00, 75615)]\n",
       "Toronto, Ontario          [(17:00, 40), (19:00, 50), (18:00, 64)]\n",
       "West Toronto                                          [(3:00, 1)]"
      ]
     },
     "execution_count": 128,
     "metadata": {},
     "output_type": "execute_result"
    }
   ],
   "source": [
    "group.filter(like='Toronto', axis=0)"
   ]
  }
 ],
 "metadata": {
  "kernelspec": {
   "display_name": "Python 3",
   "language": "python",
   "name": "python3"
  },
  "language_info": {
   "codemirror_mode": {
    "name": "ipython",
    "version": 3
   },
   "file_extension": ".py",
   "mimetype": "text/x-python",
   "name": "python",
   "nbconvert_exporter": "python",
   "pygments_lexer": "ipython3",
   "version": "3.6.1"
  }
 },
 "nbformat": 4,
 "nbformat_minor": 2
}
