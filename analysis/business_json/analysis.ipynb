{
 "cells": [
  {
   "cell_type": "code",
   "execution_count": 55,
   "metadata": {
    "collapsed": true
   },
   "outputs": [],
   "source": [
    "import pandas as pd\n",
    "import matplotlib.pyplot as plt\n",
    "from prettytable import PrettyTable\n",
    "%matplotlib inline\n",
    "TOP = 15"
   ]
  },
  {
   "cell_type": "code",
   "execution_count": 56,
   "metadata": {
    "collapsed": true
   },
   "outputs": [],
   "source": [
    "df = pd.read_json('E:/dm-project-dataset/dataset/business.json', lines=True)"
   ]
  },
  {
   "cell_type": "code",
   "execution_count": 57,
   "metadata": {},
   "outputs": [
    {
     "data": {
      "text/plain": [
       "address          object\n",
       "attributes       object\n",
       "business_id      object\n",
       "categories       object\n",
       "city             object\n",
       "hours            object\n",
       "is_open           int64\n",
       "latitude        float64\n",
       "longitude       float64\n",
       "name             object\n",
       "neighborhood     object\n",
       "postal_code      object\n",
       "review_count      int64\n",
       "stars           float64\n",
       "state            object\n",
       "dtype: object"
      ]
     },
     "execution_count": 57,
     "metadata": {},
     "output_type": "execute_result"
    }
   ],
   "source": [
    "df.dtypes"
   ]
  },
  {
   "cell_type": "code",
   "execution_count": 58,
   "metadata": {},
   "outputs": [
    {
     "name": "stdout",
     "output_type": "stream",
     "text": [
      "Total Business: 156639\n"
     ]
    }
   ],
   "source": [
    "df.shape\n",
    "print(\"Total Business: {}\".format(df.shape[0]))"
   ]
  },
  {
   "cell_type": "code",
   "execution_count": 59,
   "metadata": {},
   "outputs": [
    {
     "name": "stdout",
     "output_type": "stream",
     "text": [
      "Number of Cities: 1010\n",
      "Top 15 cities in terms of number of businesses\n",
      "+------------+----------------------+\n",
      "|    City    | Number of Businesses |\n",
      "+------------+----------------------+\n",
      "| Las Vegas  |        24768         |\n",
      "|  Phoenix   |        15656         |\n",
      "|  Toronto   |        15483         |\n",
      "| Charlotte  |         7557         |\n",
      "| Scottsdale |         7510         |\n",
      "| Pittsburgh |         5688         |\n",
      "|  Montréal  |         5175         |\n",
      "|    Mesa    |         5146         |\n",
      "| Henderson  |         4130         |\n",
      "|   Tempe    |         3949         |\n",
      "|  Chandler  |         3649         |\n",
      "| Edinburgh  |         3625         |\n",
      "| Cleveland  |         2979         |\n",
      "|  Madison   |         2891         |\n",
      "|  Glendale  |         2841         |\n",
      "+------------+----------------------+\n"
     ]
    }
   ],
   "source": [
    "grouped_by_city = df.groupby('city')\n",
    "print(\"Number of Cities:\", len(grouped_by_city))\n",
    "\n",
    "grouped_by_city_sorted = sorted(grouped_by_city.groups, key=lambda k: len(grouped_by_city.groups[k]), reverse=True)\n",
    "city_business_table = PrettyTable()\n",
    "city_business_table.field_names = [\"City\", \"Number of Businesses\"]\n",
    "print(\"Top {} cities in terms of number of businesses\".format(TOP))\n",
    "for city in grouped_by_city_sorted[:TOP]:\n",
    "    city_business_table.add_row([city, len(grouped_by_city.groups[city])])\n",
    "print(city_business_table)"
   ]
  },
  {
   "cell_type": "code",
   "execution_count": 60,
   "metadata": {},
   "outputs": [
    {
     "name": "stdout",
     "output_type": "stream",
     "text": [
      "Top 15 categories in terms of number of businesses\n",
      "+---------------------------+----------------------+\n",
      "|          Category         | Number of Businesses |\n",
      "+---------------------------+----------------------+\n",
      "|        Restaurants        |        51613         |\n",
      "|          Shopping         |        24595         |\n",
      "|            Food           |        23014         |\n",
      "|       Beauty & Spas       |        15139         |\n",
      "|       Home Services       |        13202         |\n",
      "|      Health & Medical     |        12033         |\n",
      "|         Nightlife         |        11364         |\n",
      "|            Bars           |         9868         |\n",
      "|         Automotive        |         9476         |\n",
      "|       Local Services      |         9343         |\n",
      "| Event Planning & Services |         8038         |\n",
      "|        Active Life        |         7427         |\n",
      "|          Fashion          |         6299         |\n",
      "|         Sandwiches        |         5864         |\n",
      "|         Fast Food         |         5792         |\n",
      "+---------------------------+----------------------+\n"
     ]
    }
   ],
   "source": [
    "df_category = df.loc[:, ['categories']]\n",
    "business_per_cat = {}\n",
    "for index, row in df_category.iterrows():\n",
    "    for cat in row['categories']:\n",
    "        if cat in business_per_cat:\n",
    "            business_per_cat[cat] += 1\n",
    "        else:\n",
    "            business_per_cat[cat] = 1\n",
    "\n",
    "business_per_cat_sorted = sorted(business_per_cat.items(), key=lambda x: x[1], reverse=True)\n",
    "business_per_cat_table = PrettyTable()\n",
    "business_per_cat_table.field_names = [\"Category\", \"Number of Businesses\"]\n",
    "print(\"Top {} categories in terms of number of businesses\".format(TOP))\n",
    "for cat in business_per_cat_sorted[:TOP]:\n",
    "    business_per_cat_table.add_row([cat[0], cat[1]])\n",
    "print(business_per_cat_table)"
   ]
  },
  {
   "cell_type": "code",
   "execution_count": 61,
   "metadata": {},
   "outputs": [
    {
     "data": {
      "text/plain": [
       "<matplotlib.axes._subplots.AxesSubplot at 0x183063d3630>"
      ]
     },
     "execution_count": 61,
     "metadata": {},
     "output_type": "execute_result"
    },
    {
     "data": {
      "image/png": "[encoded data removed]",
      "text/plain": [
       "<matplotlib.figure.Figure at 0x183063b6ac8>"
      ]
     },
     "metadata": {},
     "output_type": "display_data"
    }
   ],
   "source": [
    "df.stars.plot(kind='hist')"
   ]
  },
  {
   "cell_type": "code",
   "execution_count": 62,
   "metadata": {},
   "outputs": [
    {
     "data": {
      "text/plain": [
       "<matplotlib.axes._subplots.AxesSubplot at 0x1834e269ba8>"
      ]
     },
     "execution_count": 62,
     "metadata": {},
     "output_type": "execute_result"
    },
    {
     "data": {
      "image/png": "[encoded data removed]",
      "text/plain": [
       "<matplotlib.figure.Figure at 0x1834e244f28>"
      ]
     },
     "metadata": {},
     "output_type": "display_data"
    }
   ],
   "source": [
    "df.review_count.plot(kind='hist', bins=range(0,100,10))"
   ]
  },
  {
   "cell_type": "code",
   "execution_count": null,
   "metadata": {},
   "outputs": [],
   "source": []
  },
  {
   "cell_type": "code",
   "execution_count": null,
   "metadata": {
    "collapsed": true
   },
   "outputs": [],
   "source": []
  }
 ],
 "metadata": {
  "kernelspec": {
   "display_name": "Python 3",
   "language": "python",
   "name": "python3"
  },
  "language_info": {
   "codemirror_mode": {
    "name": "ipython",
    "version": 3
   },
   "file_extension": ".py",
   "mimetype": "text/x-python",
   "name": "python",
   "nbconvert_exporter": "python",
   "pygments_lexer": "ipython3",
   "version": "3.6.1"
  }
 },
 "nbformat": 4,
 "nbformat_minor": 2
}
