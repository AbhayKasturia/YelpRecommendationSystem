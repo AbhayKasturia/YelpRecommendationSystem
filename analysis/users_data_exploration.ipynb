{
 "cells": [
  {
   "cell_type": "code",
   "execution_count": 1,
   "metadata": {
    "collapsed": false
   },
   "outputs": [],
   "source": [
    "import pandas as pd\n",
    "import matplotlib.pyplot as plt\n",
    "%matplotlib inline\n",
    "import pylab\n",
    "from datetime import datetime"
   ]
  },
  {
   "cell_type": "code",
   "execution_count": 2,
   "metadata": {
    "collapsed": false
   },
   "outputs": [],
   "source": [
    "df_user = pd.read_json('D:/desk_2104/CS Sem4/CS6220/Project/dataset/user.json', lines=True)"
   ]
  },
  {
   "cell_type": "code",
   "execution_count": 3,
   "metadata": {
    "collapsed": false,
    "scrolled": true
   },
   "outputs": [],
   "source": [
    "df_test = df_user.head(10000)"
   ]
  },
  {
   "cell_type": "code",
   "execution_count": 4,
   "metadata": {
    "collapsed": true
   },
   "outputs": [],
   "source": [
    "total_users = len(df_test)"
   ]
  },
  {
   "cell_type": "code",
   "execution_count": 5,
   "metadata": {
    "collapsed": false
   },
   "outputs": [
    {
     "name": "stdout",
     "output_type": "stream",
     "text": [
      "Total number of users are: 10000\n"
     ]
    }
   ],
   "source": [
    "print(\"Total number of users are:\",total_users)"
   ]
  },
  {
   "cell_type": "code",
   "execution_count": 6,
   "metadata": {
    "collapsed": false
   },
   "outputs": [
    {
     "data": {
      "text/plain": [
       "0"
      ]
     },
     "execution_count": 6,
     "metadata": {},
     "output_type": "execute_result"
    }
   ],
   "source": [
    "#checking for any wrong data\n",
    "len(df_test.loc[df_test['review_count'] <0]) #no negative value of review_count"
   ]
  },
  {
   "cell_type": "code",
   "execution_count": 7,
   "metadata": {
    "collapsed": false
   },
   "outputs": [
    {
     "data": {
      "text/plain": [
       "0"
      ]
     },
     "execution_count": 7,
     "metadata": {},
     "output_type": "execute_result"
    }
   ],
   "source": [
    "#checking for any wrong data\n",
    "len(df_test.loc[(df_test['average_stars'] <0) | df_test['average_stars'] > 5]) #no wrong value of average_stars"
   ]
  },
  {
   "cell_type": "code",
   "execution_count": 8,
   "metadata": {
    "collapsed": false
   },
   "outputs": [
    {
     "data": {
      "text/html": [
       "<div>\n",
       "<table border=\"1\" class=\"dataframe\">\n",
       "  <thead>\n",
       "    <tr style=\"text-align: right;\">\n",
       "      <th></th>\n",
       "      <th>average_stars</th>\n",
       "      <th>compliment_cool</th>\n",
       "      <th>compliment_cute</th>\n",
       "      <th>compliment_funny</th>\n",
       "      <th>compliment_hot</th>\n",
       "      <th>compliment_list</th>\n",
       "      <th>compliment_more</th>\n",
       "      <th>compliment_note</th>\n",
       "      <th>compliment_photos</th>\n",
       "      <th>compliment_plain</th>\n",
       "      <th>...</th>\n",
       "      <th>cool</th>\n",
       "      <th>elite</th>\n",
       "      <th>fans</th>\n",
       "      <th>friends</th>\n",
       "      <th>funny</th>\n",
       "      <th>name</th>\n",
       "      <th>review_count</th>\n",
       "      <th>useful</th>\n",
       "      <th>user_id</th>\n",
       "      <th>yelping_since</th>\n",
       "    </tr>\n",
       "  </thead>\n",
       "  <tbody>\n",
       "    <tr>\n",
       "      <th>0</th>\n",
       "      <td>3.80</td>\n",
       "      <td>5174</td>\n",
       "      <td>284</td>\n",
       "      <td>5174</td>\n",
       "      <td>5175</td>\n",
       "      <td>78</td>\n",
       "      <td>299</td>\n",
       "      <td>1435</td>\n",
       "      <td>7829</td>\n",
       "      <td>7397</td>\n",
       "      <td>...</td>\n",
       "      <td>16856</td>\n",
       "      <td>[2014, 2016, 2013, 2011, 2012, 2015, 2010, 2017]</td>\n",
       "      <td>209</td>\n",
       "      <td>[M19NwFwAXKRZzt8koF11hQ, QRcMZ8pJJBBZaKubHOoMD...</td>\n",
       "      <td>16605</td>\n",
       "      <td>Cin</td>\n",
       "      <td>272</td>\n",
       "      <td>17019</td>\n",
       "      <td>lsSiIjAKVl-QRxKjRErBeg</td>\n",
       "      <td>2010-07-13</td>\n",
       "    </tr>\n",
       "    <tr>\n",
       "      <th>1</th>\n",
       "      <td>3.94</td>\n",
       "      <td>1556</td>\n",
       "      <td>211</td>\n",
       "      <td>1556</td>\n",
       "      <td>1285</td>\n",
       "      <td>101</td>\n",
       "      <td>134</td>\n",
       "      <td>1295</td>\n",
       "      <td>162</td>\n",
       "      <td>2134</td>\n",
       "      <td>...</td>\n",
       "      <td>40110</td>\n",
       "      <td>[2014, 2017, 2011, 2012, 2015, 2009, 2013, 200...</td>\n",
       "      <td>835</td>\n",
       "      <td>[eoSSJzdprj3jxXyi94vDXg, QF0urZa-0bxga17ZeY-9l...</td>\n",
       "      <td>10882</td>\n",
       "      <td>Andrea</td>\n",
       "      <td>2559</td>\n",
       "      <td>83681</td>\n",
       "      <td>om5ZiponkpRqUNa3pVPiRg</td>\n",
       "      <td>2006-01-18</td>\n",
       "    </tr>\n",
       "    <tr>\n",
       "      <th>2</th>\n",
       "      <td>4.72</td>\n",
       "      <td>15</td>\n",
       "      <td>1</td>\n",
       "      <td>15</td>\n",
       "      <td>5</td>\n",
       "      <td>0</td>\n",
       "      <td>1</td>\n",
       "      <td>11</td>\n",
       "      <td>8</td>\n",
       "      <td>20</td>\n",
       "      <td>...</td>\n",
       "      <td>55</td>\n",
       "      <td>[]</td>\n",
       "      <td>17</td>\n",
       "      <td>[Oa84FFGBw1axX8O6uDkmqg, SRcWERSl4rhm-Bz9zN_J8...</td>\n",
       "      <td>4</td>\n",
       "      <td>Gabe</td>\n",
       "      <td>277</td>\n",
       "      <td>45</td>\n",
       "      <td>-lGwMGHMC_XihFJNKCJNRg</td>\n",
       "      <td>2014-10-31</td>\n",
       "    </tr>\n",
       "    <tr>\n",
       "      <th>3</th>\n",
       "      <td>3.76</td>\n",
       "      <td>9</td>\n",
       "      <td>0</td>\n",
       "      <td>9</td>\n",
       "      <td>1</td>\n",
       "      <td>0</td>\n",
       "      <td>1</td>\n",
       "      <td>4</td>\n",
       "      <td>1</td>\n",
       "      <td>11</td>\n",
       "      <td>...</td>\n",
       "      <td>4</td>\n",
       "      <td>[2016, 2017]</td>\n",
       "      <td>11</td>\n",
       "      <td>[96DJovjKAtExnyBZRfniPQ, Djczq-bRn761U4FW77NUt...</td>\n",
       "      <td>4</td>\n",
       "      <td>Leah</td>\n",
       "      <td>436</td>\n",
       "      <td>15</td>\n",
       "      <td>D-ydMTPGWXTVm4_jjp0k9g</td>\n",
       "      <td>2013-04-01</td>\n",
       "    </tr>\n",
       "    <tr>\n",
       "      <th>4</th>\n",
       "      <td>4.23</td>\n",
       "      <td>276</td>\n",
       "      <td>0</td>\n",
       "      <td>276</td>\n",
       "      <td>59</td>\n",
       "      <td>0</td>\n",
       "      <td>8</td>\n",
       "      <td>51</td>\n",
       "      <td>169</td>\n",
       "      <td>386</td>\n",
       "      <td>...</td>\n",
       "      <td>6006</td>\n",
       "      <td>[2017, 2016]</td>\n",
       "      <td>49</td>\n",
       "      <td>[iN0A6QIrEFYoSGHFaknh8Q, B2HDoWNIzLlon0IhS1cmD...</td>\n",
       "      <td>360</td>\n",
       "      <td>Juan</td>\n",
       "      <td>921</td>\n",
       "      <td>9152</td>\n",
       "      <td>PcvbBOCOcs6_suRDH7TSTg</td>\n",
       "      <td>2012-08-16</td>\n",
       "    </tr>\n",
       "  </tbody>\n",
       "</table>\n",
       "<p>5 rows × 22 columns</p>\n",
       "</div>"
      ],
      "text/plain": [
       "   average_stars  compliment_cool  compliment_cute  compliment_funny  \\\n",
       "0           3.80             5174              284              5174   \n",
       "1           3.94             1556              211              1556   \n",
       "2           4.72               15                1                15   \n",
       "3           3.76                9                0                 9   \n",
       "4           4.23              276                0               276   \n",
       "\n",
       "   compliment_hot  compliment_list  compliment_more  compliment_note  \\\n",
       "0            5175               78              299             1435   \n",
       "1            1285              101              134             1295   \n",
       "2               5                0                1               11   \n",
       "3               1                0                1                4   \n",
       "4              59                0                8               51   \n",
       "\n",
       "   compliment_photos  compliment_plain      ...         cool  \\\n",
       "0               7829              7397      ...        16856   \n",
       "1                162              2134      ...        40110   \n",
       "2                  8                20      ...           55   \n",
       "3                  1                11      ...            4   \n",
       "4                169               386      ...         6006   \n",
       "\n",
       "                                               elite  fans  \\\n",
       "0   [2014, 2016, 2013, 2011, 2012, 2015, 2010, 2017]   209   \n",
       "1  [2014, 2017, 2011, 2012, 2015, 2009, 2013, 200...   835   \n",
       "2                                                 []    17   \n",
       "3                                       [2016, 2017]    11   \n",
       "4                                       [2017, 2016]    49   \n",
       "\n",
       "                                             friends  funny    name  \\\n",
       "0  [M19NwFwAXKRZzt8koF11hQ, QRcMZ8pJJBBZaKubHOoMD...  16605     Cin   \n",
       "1  [eoSSJzdprj3jxXyi94vDXg, QF0urZa-0bxga17ZeY-9l...  10882  Andrea   \n",
       "2  [Oa84FFGBw1axX8O6uDkmqg, SRcWERSl4rhm-Bz9zN_J8...      4    Gabe   \n",
       "3  [96DJovjKAtExnyBZRfniPQ, Djczq-bRn761U4FW77NUt...      4    Leah   \n",
       "4  [iN0A6QIrEFYoSGHFaknh8Q, B2HDoWNIzLlon0IhS1cmD...    360    Juan   \n",
       "\n",
       "   review_count useful                 user_id  yelping_since  \n",
       "0           272  17019  lsSiIjAKVl-QRxKjRErBeg     2010-07-13  \n",
       "1          2559  83681  om5ZiponkpRqUNa3pVPiRg     2006-01-18  \n",
       "2           277     45  -lGwMGHMC_XihFJNKCJNRg     2014-10-31  \n",
       "3           436     15  D-ydMTPGWXTVm4_jjp0k9g     2013-04-01  \n",
       "4           921   9152  PcvbBOCOcs6_suRDH7TSTg     2012-08-16  \n",
       "\n",
       "[5 rows x 22 columns]"
      ]
     },
     "execution_count": 8,
     "metadata": {},
     "output_type": "execute_result"
    }
   ],
   "source": [
    "df_test.head()"
   ]
  },
  {
   "cell_type": "code",
   "execution_count": 9,
   "metadata": {
    "collapsed": false
   },
   "outputs": [
    {
     "data": {
      "text/plain": [
       "<matplotlib.text.Text at 0x2b2daab3b00>"
      ]
     },
     "execution_count": 9,
     "metadata": {},
     "output_type": "execute_result"
    },
    {
     "data": {
      "image/png": "[encoded data removed]",
      "text/plain": [
       "<matplotlib.figure.Figure at 0x2b2da9e8710>"
      ]
     },
     "metadata": {},
     "output_type": "display_data"
    }
   ],
   "source": [
    "bins = range(0,3000, 500)\n",
    "plt.hist(df_test['review_count'], bins)\n",
    "plt.xlabel('review_count')\n",
    "plt.ylabel('no of users')"
   ]
  },
  {
   "cell_type": "code",
   "execution_count": 10,
   "metadata": {
    "collapsed": false
   },
   "outputs": [],
   "source": [
    "median_rc = df_test['review_count'].median()\n",
    "max_rc = df_test['review_count'].max()\n",
    "min_rc = df_test['review_count'].min()"
   ]
  },
  {
   "cell_type": "code",
   "execution_count": 11,
   "metadata": {
    "collapsed": false
   },
   "outputs": [
    {
     "name": "stdout",
     "output_type": "stream",
     "text": [
      "Median value for review count is: 29.0\n",
      "Maximum value for review count is: 11065\n",
      "Minimum value for review count is: 0\n"
     ]
    }
   ],
   "source": [
    "print(\"Median value for review count is:\", median_rc)\n",
    "print(\"Maximum value for review count is:\", max_rc)\n",
    "print(\"Minimum value for review count is:\", min_rc)"
   ]
  },
  {
   "cell_type": "code",
   "execution_count": 12,
   "metadata": {
    "collapsed": false
   },
   "outputs": [
    {
     "name": "stdout",
     "output_type": "stream",
     "text": [
      "Count of users with all 5 stars rating: 596\n",
      "Count of users with all 0 stars rating: 0\n"
     ]
    }
   ],
   "source": [
    "#Users with average stars as 5 or 0\n",
    "c_avg_5star = len(df_test.loc[df_test['average_stars'] == 5.00])\n",
    "c_avg_0star = len(df_test.loc[df_test['average_stars'] == 0.00])\n",
    "print(\"Count of users with all 5 stars rating:\", c_avg_5star)\n",
    "print(\"Count of users with all 0 stars rating:\", c_avg_0star)"
   ]
  },
  {
   "cell_type": "code",
   "execution_count": 13,
   "metadata": {
    "collapsed": false
   },
   "outputs": [
    {
     "data": {
      "text/plain": [
       "<matplotlib.text.Text at 0x2b2e3054160>"
      ]
     },
     "execution_count": 13,
     "metadata": {},
     "output_type": "execute_result"
    },
    {
     "data": {
      "image/png": "[encoded data removed]",
      "text/plain": [
       "<matplotlib.figure.Figure at 0x2b2da9e8160>"
      ]
     },
     "metadata": {},
     "output_type": "display_data"
    }
   ],
   "source": [
    "bins = range(0,6, 1)\n",
    "plt.hist(df_test['average_stars'], bins)\n",
    "plt.xlabel('average_stars')\n",
    "plt.ylabel('no of users')"
   ]
  },
  {
   "cell_type": "code",
   "execution_count": 14,
   "metadata": {
    "collapsed": true
   },
   "outputs": [],
   "source": [
    "median_avg_stars = df_test['average_stars'].median()\n",
    "max_avg_stars = df_test['average_stars'].max()\n",
    "min_avg_stars = df_test['average_stars'].min()"
   ]
  },
  {
   "cell_type": "code",
   "execution_count": 15,
   "metadata": {
    "collapsed": false
   },
   "outputs": [
    {
     "name": "stdout",
     "output_type": "stream",
     "text": [
      "Median value for average stars given by users is: 3.83\n",
      "Maximum value for average stars given by users is: 5.0\n",
      "Minimum value for average stars given by users is: 1.0\n"
     ]
    }
   ],
   "source": [
    "print(\"Median value for average stars given by users is:\", median_avg_stars)\n",
    "print(\"Maximum value for average stars given by users is:\", max_avg_stars)\n",
    "print(\"Minimum value for average stars given by users is:\", min_avg_stars)"
   ]
  },
  {
   "cell_type": "code",
   "execution_count": 16,
   "metadata": {
    "collapsed": false
   },
   "outputs": [
    {
     "name": "stdout",
     "output_type": "stream",
     "text": [
      "Median value for useful index is: 0.14654029692470838\n",
      "Maximum value for useful index is: 763.0\n",
      "Minimum value for useful index is: 0.0\n"
     ]
    }
   ],
   "source": [
    "#users with useful revies (calculated by useful/review_count)\n",
    "median_useful = (df_test['useful']/df_test['review_count']).median()\n",
    "max_useful = (df_test['useful']/df_test['review_count']).max()\n",
    "min_useful = (df_test['useful']/df_test['review_count']).min()\n",
    "print(\"Median value for useful index is:\", median_useful)\n",
    "print(\"Maximum value for useful index is:\", max_useful)\n",
    "print(\"Minimum value for useful index is:\", min_useful)"
   ]
  },
  {
   "cell_type": "markdown",
   "metadata": {},
   "source": [
    "Useful Index is the number of useful votes per review for the user"
   ]
  },
  {
   "cell_type": "code",
   "execution_count": 17,
   "metadata": {
    "collapsed": false
   },
   "outputs": [],
   "source": [
    "min_date = min(df_test['yelping_since'])\n",
    "max_date = max(df_test['yelping_since'])"
   ]
  },
  {
   "cell_type": "code",
   "execution_count": 18,
   "metadata": {
    "collapsed": false
   },
   "outputs": [
    {
     "name": "stderr",
     "output_type": "stream",
     "text": [
      "C:\\Users\\Gautam Vashisht\\Anaconda3\\lib\\site-packages\\ipykernel\\__main__.py:1: SettingWithCopyWarning: \n",
      "A value is trying to be set on a copy of a slice from a DataFrame.\n",
      "Try using .loc[row_indexer,col_indexer] = value instead\n",
      "\n",
      "See the caveats in the documentation: http://pandas.pydata.org/pandas-docs/stable/indexing.html#indexing-view-versus-copy\n",
      "  if __name__ == '__main__':\n"
     ]
    }
   ],
   "source": [
    "df_test['yelping_since'] = pd.to_datetime(df_test['yelping_since'])"
   ]
  },
  {
   "cell_type": "code",
   "execution_count": 19,
   "metadata": {
    "collapsed": false
   },
   "outputs": [],
   "source": [
    "count_list = df_test.groupby(df_test['yelping_since'].map(lambda y: y.year)).count()['yelping_since']"
   ]
  },
  {
   "cell_type": "code",
   "execution_count": 20,
   "metadata": {
    "collapsed": false
   },
   "outputs": [
    {
     "data": {
      "text/plain": [
       "<matplotlib.axes._subplots.AxesSubplot at 0x2b2e3464c18>"
      ]
     },
     "execution_count": 20,
     "metadata": {},
     "output_type": "execute_result"
    },
    {
     "data": {
      "image/png": "[encoded data removed]",
      "text/plain": [
       "<matplotlib.figure.Figure at 0x2b2e3054f28>"
      ]
     },
     "metadata": {},
     "output_type": "display_data"
    }
   ],
   "source": [
    "fig, axs = plt.subplots(2)\n",
    "\n",
    "df_test.groupby([df_test[\"yelping_since\"].map(lambda y: y.year)]).count()['yelping_since'].plot(kind=\"pie\", ax= axs[0])\n",
    "df_test.groupby([df_test[\"yelping_since\"].map(lambda y: y.year)]).count()['yelping_since'].plot(kind=\"bar\", ax = axs[1], y= \"no of users\")"
   ]
  },
  {
   "cell_type": "markdown",
   "metadata": {},
   "source": [
    "Above graph showing the users joining the Yelp. There is increase in number of users joining from 2005 to 2011 and then again there is continuous dip in number of users joining the yelp."
   ]
  },
  {
   "cell_type": "code",
   "execution_count": null,
   "metadata": {
    "collapsed": true
   },
   "outputs": [],
   "source": []
  }
 ],
 "metadata": {
  "kernelspec": {
   "display_name": "Python 3",
   "language": "python",
   "name": "python3"
  },
  "language_info": {
   "codemirror_mode": {
    "name": "ipython",
    "version": 3
   },
   "file_extension": ".py",
   "mimetype": "text/x-python",
   "name": "python",
   "nbconvert_exporter": "python",
   "pygments_lexer": "ipython3",
   "version": "3.6.0"
  }
 },
 "nbformat": 4,
 "nbformat_minor": 2
}
