{
 "cells": [
  {
   "cell_type": "code",
   "execution_count": 1,
   "metadata": {},
   "outputs": [],
   "source": [
    "import pandas as pd\n",
    "import numpy as np\n",
    "%matplotlib inline\n",
    "import json"
   ]
  },
  {
   "cell_type": "markdown",
   "metadata": {},
   "source": [
    " # Yelp Training Data"
   ]
  },
  {
   "cell_type": "code",
   "execution_count": 3,
   "metadata": {},
   "outputs": [],
   "source": [
    "res_mer = pd.read_csv('/media/gautam/DATA/desk_2104/CS Sem4/CS6220/Project/dataset/yelp.train.rating', sep ='\\t')"
   ]
  },
  {
   "cell_type": "code",
   "execution_count": 4,
   "metadata": {},
   "outputs": [
    {
     "data": {
      "text/html": [
       "<div>\n",
       "<style scoped>\n",
       "    .dataframe tbody tr th:only-of-type {\n",
       "        vertical-align: middle;\n",
       "    }\n",
       "\n",
       "    .dataframe tbody tr th {\n",
       "        vertical-align: top;\n",
       "    }\n",
       "\n",
       "    .dataframe thead th {\n",
       "        text-align: right;\n",
       "    }\n",
       "</style>\n",
       "<table border=\"1\" class=\"dataframe\">\n",
       "  <thead>\n",
       "    <tr style=\"text-align: right;\">\n",
       "      <th></th>\n",
       "      <th>user_id</th>\n",
       "      <th>business_id</th>\n",
       "      <th>rating</th>\n",
       "      <th>date</th>\n",
       "    </tr>\n",
       "  </thead>\n",
       "  <tbody>\n",
       "    <tr>\n",
       "      <th>0</th>\n",
       "      <td>0</td>\n",
       "      <td>0</td>\n",
       "      <td>3</td>\n",
       "      <td>2015-03-19</td>\n",
       "    </tr>\n",
       "    <tr>\n",
       "      <th>1</th>\n",
       "      <td>0</td>\n",
       "      <td>1</td>\n",
       "      <td>3</td>\n",
       "      <td>2015-03-19</td>\n",
       "    </tr>\n",
       "    <tr>\n",
       "      <th>2</th>\n",
       "      <td>0</td>\n",
       "      <td>2</td>\n",
       "      <td>4</td>\n",
       "      <td>2015-03-19</td>\n",
       "    </tr>\n",
       "    <tr>\n",
       "      <th>3</th>\n",
       "      <td>0</td>\n",
       "      <td>3</td>\n",
       "      <td>4</td>\n",
       "      <td>2015-03-19</td>\n",
       "    </tr>\n",
       "    <tr>\n",
       "      <th>4</th>\n",
       "      <td>0</td>\n",
       "      <td>4</td>\n",
       "      <td>3</td>\n",
       "      <td>2015-03-19</td>\n",
       "    </tr>\n",
       "  </tbody>\n",
       "</table>\n",
       "</div>"
      ],
      "text/plain": [
       "   user_id  business_id  rating        date\n",
       "0        0            0       3  2015-03-19\n",
       "1        0            1       3  2015-03-19\n",
       "2        0            2       4  2015-03-19\n",
       "3        0            3       4  2015-03-19\n",
       "4        0            4       3  2015-03-19"
      ]
     },
     "execution_count": 4,
     "metadata": {},
     "output_type": "execute_result"
    }
   ],
   "source": [
    "res_mer.head()"
   ]
  },
  {
   "cell_type": "markdown",
   "metadata": {},
   "source": [
    "# Utility Matrix Creation"
   ]
  },
  {
   "cell_type": "code",
   "execution_count": 5,
   "metadata": {},
   "outputs": [],
   "source": [
    "df = res_mer.pivot(index = 'user_id', columns ='business_id', values='rating')"
   ]
  },
  {
   "cell_type": "code",
   "execution_count": 6,
   "metadata": {},
   "outputs": [],
   "source": [
    "rating_mat = df.as_matrix().astype(np.float)"
   ]
  },
  {
   "cell_type": "markdown",
   "metadata": {},
   "source": [
    "# Centralizing each row vector to mean zero"
   ]
  },
  {
   "cell_type": "code",
   "execution_count": 7,
   "metadata": {},
   "outputs": [],
   "source": [
    "arrMean = np.nanmean(rating_mat, axis = 1)"
   ]
  },
  {
   "cell_type": "code",
   "execution_count": 8,
   "metadata": {},
   "outputs": [],
   "source": [
    "arrMean = arrMean[:, np.newaxis]"
   ]
  },
  {
   "cell_type": "code",
   "execution_count": 9,
   "metadata": {},
   "outputs": [],
   "source": [
    "mat = rating_mat - arrMean"
   ]
  },
  {
   "cell_type": "code",
   "execution_count": 10,
   "metadata": {},
   "outputs": [],
   "source": [
    "mat[np.isnan(mat)] = 0"
   ]
  },
  {
   "cell_type": "code",
   "execution_count": 11,
   "metadata": {},
   "outputs": [
    {
     "name": "stdout",
     "output_type": "stream",
     "text": [
      "Number of users: 19771\n",
      "Number of items: 48114\n"
     ]
    }
   ],
   "source": [
    "print(\"Number of users:\", len(mat))\n",
    "print(\"Number of items:\", len(mat[0]))"
   ]
  },
  {
   "cell_type": "markdown",
   "metadata": {},
   "source": [
    "# Similarity Matrix"
   ]
  },
  {
   "cell_type": "code",
   "execution_count": 12,
   "metadata": {},
   "outputs": [],
   "source": [
    "def sim_matrix(u,eps=1.0e-9):\n",
    "    step1 = np.dot(u, u.T) + eps\n",
    "    step2 = np.array([np.sqrt(np.diagonal(step1))])\n",
    "    return (step1 / step2 / step2.T)"
   ]
  },
  {
   "cell_type": "markdown",
   "metadata": {},
   "source": [
    " We added small value so that it should not give divide by zero error if zero would be there."
   ]
  },
  {
   "cell_type": "markdown",
   "metadata": {},
   "source": [
    "# Top K Similar Items"
   ]
  },
  {
   "cell_type": "code",
   "execution_count": 13,
   "metadata": {},
   "outputs": [],
   "source": [
    "def top_k(m_utility, item_idx, arr, self_idx, k):\n",
    "    sortedArr=arr.argsort()[::-1][:len(arr)]\n",
    "    sortedArr=sortedArr[1:k+1]\n",
    "    tk={}\n",
    "    for i in sortedArr: \n",
    "        if i != self_idx:\n",
    "            tk[i]=arr[i]\n",
    "    return tk"
   ]
  },
  {
   "cell_type": "markdown",
   "metadata": {},
   "source": [
    "# Recommendation via Similar Users"
   ]
  },
  {
   "cell_type": "code",
   "execution_count": 14,
   "metadata": {},
   "outputs": [],
   "source": [
    "def rec_via_users(m_utility, m_sim_users, user_idx, item_idx, k):\n",
    "    dict_s = top_k(m_utility, item_idx, m_sim_users[user_idx], user_idx, k)\n",
    "    s = 0.00\n",
    "    c = 0.00\n",
    "    for k,v in dict_s.items():\n",
    "        if item_idx > m_utility.shape[1]: # if it is new item, we will give it neutral rating\n",
    "            return 0\n",
    "        if m_utility[k][item_idx] == 0: #continuing if user has not rated that item\n",
    "            continue\n",
    "        s += (m_utility[k][item_idx] * v)\n",
    "        c += v\n",
    "    if c == 0:\n",
    "        return 0\n",
    "    return s/c"
   ]
  },
  {
   "cell_type": "markdown",
   "metadata": {},
   "source": [
    "# Creating Similarity Matrix"
   ]
  },
  {
   "cell_type": "code",
   "execution_count": 15,
   "metadata": {},
   "outputs": [],
   "source": [
    "sim_mat_user = sim_matrix(mat)"
   ]
  },
  {
   "cell_type": "code",
   "execution_count": 16,
   "metadata": {},
   "outputs": [
    {
     "name": "stdout",
     "output_type": "stream",
     "text": [
      "-0.448275862069\n"
     ]
    }
   ],
   "source": [
    "# Testing the rated average of matrix with \n",
    "print(rec_via_users(mat,sim_mat_user,4,90,10))"
   ]
  },
  {
   "cell_type": "markdown",
   "metadata": {},
   "source": [
    "This represents the difference between the mean ratings given by user and rating given by user for business id 90. So the recommendation system won't recommend this business to user as it is less than zero."
   ]
  },
  {
   "cell_type": "markdown",
   "metadata": {},
   "source": [
    "# Loading Test Data"
   ]
  },
  {
   "cell_type": "code",
   "execution_count": 17,
   "metadata": {},
   "outputs": [],
   "source": [
    "res_mer_test = pd.read_csv('/media/gautam/DATA/desk_2104/CS Sem4/CS6220/Project/dataset/yelp.test.rating', sep ='\\t')"
   ]
  },
  {
   "cell_type": "markdown",
   "metadata": {},
   "source": [
    "# Prediction of average rating based on 10 similar users"
   ]
  },
  {
   "cell_type": "code",
   "execution_count": 18,
   "metadata": {},
   "outputs": [],
   "source": [
    "pred_ratings = []\n",
    "for index, row in res_mer_test.iterrows():\n",
    "    pred = rec_via_users(mat, sim_mat_user, row.user_id, row.business_id, 10)\n",
    "    pred_ratings.append(pred)"
   ]
  },
  {
   "cell_type": "markdown",
   "metadata": {},
   "source": [
    "# Converting the test rating to average rating with mean zero to compare it with average predicted rating"
   ]
  },
  {
   "cell_type": "code",
   "execution_count": 19,
   "metadata": {},
   "outputs": [],
   "source": [
    "test_ratings = res_mer_test.rating\n",
    "arrMeanTest = np.mean(test_ratings)\n",
    "test_ratings =  np.subtract(test_ratings, arrMeanTest)"
   ]
  },
  {
   "cell_type": "code",
   "execution_count": 20,
   "metadata": {},
   "outputs": [
    {
     "name": "stdout",
     "output_type": "stream",
     "text": [
      "34691.1133424\n"
     ]
    }
   ],
   "source": [
    "#mean square error\n",
    "arr_sub = np.subtract(pred_ratings,test_ratings)\n",
    "arr_sqr = np.square(arr_sub)\n",
    "arr_sum = np.sum(arr_sqr)\n",
    "mse = np.mean(arr_sum)\n",
    "print(mse)"
   ]
  },
  {
   "cell_type": "markdown",
   "metadata": {},
   "source": [
    "Model has not behaved as expected, there is large value of mean square error among the predicted average rating and real average rating for test data which show that model is not trained properly."
   ]
  },
  {
   "cell_type": "code",
   "execution_count": 21,
   "metadata": {},
   "outputs": [],
   "source": [
    "#Recommending Top 10 Business to particular user in training data\n",
    "user_id = 0\n",
    "pred_rating = {}\n",
    "for i in range(len(mat[1])):\n",
    "    if np.isnan(rating_mat[user_id][i]):\n",
    "        pred_rating[i] = rec_via_users(mat, sim_mat_user, user_id, i, 10)\n",
    "#sorted on basis of value\n",
    "sorted_keys=sorted(pred_rating, key=pred_rating.get, reverse=True)"
   ]
  },
  {
   "cell_type": "markdown",
   "metadata": {},
   "source": [
    "# List of Top 10 business id for user based on rating prediction"
   ]
  },
  {
   "cell_type": "code",
   "execution_count": 22,
   "metadata": {},
   "outputs": [
    {
     "name": "stdout",
     "output_type": "stream",
     "text": [
      "563\n",
      "997\n",
      "8258\n",
      "22295\n",
      "30668\n",
      "1536\n",
      "1676\n",
      "1916\n",
      "31060\n",
      "1419\n",
      "1420\n"
     ]
    }
   ],
   "source": [
    "# Printing Top 10 Recommendation\n",
    "c = 0\n",
    "for r in sorted_keys:\n",
    "    c = c + 1\n",
    "    print(r)\n",
    "    if c > 10:\n",
    "        break"
   ]
  }
 ],
 "metadata": {
  "kernelspec": {
   "display_name": "Python 3",
   "language": "python",
   "name": "python3"
  },
  "language_info": {
   "codemirror_mode": {
    "name": "ipython",
    "version": 3
   },
   "file_extension": ".py",
   "mimetype": "text/x-python",
   "name": "python",
   "nbconvert_exporter": "python",
   "pygments_lexer": "ipython3",
   "version": "3.5.2"
  }
 },
 "nbformat": 4,
 "nbformat_minor": 2
}
