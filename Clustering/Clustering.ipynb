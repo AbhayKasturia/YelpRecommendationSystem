{
 "cells": [
  {
   "cell_type": "code",
   "execution_count": 1,
   "metadata": {
    "collapsed": true
   },
   "outputs": [],
   "source": [
    "import json\n",
    "import statistics\n",
    "import numpy as np\n",
    "import matplotlib.pyplot as plt\n",
    "from scipy.spatial import distance\n",
    "from scipy.cluster.hierarchy import linkage\n",
    "from scipy.cluster.hierarchy import fcluster\n",
    "import sklearn.cluster as cluster\n",
    "import time\n",
    "import scipy\n",
    "import seaborn as sns\n",
    "sns.set_context('poster')\n",
    "sns.set_color_codes()\n",
    "plot_kwds = {'alpha': 0.25, 's':80, 'linewidths':0}"
   ]
  },
  {
   "cell_type": "code",
   "execution_count": 21,
   "metadata": {
    "collapsed": true
   },
   "outputs": [],
   "source": [
    "# user input\n",
    "user_input = 'Restaurants'\n",
    "u_id = 'McLqvYLBQoCFQikU9dC4cQ'"
   ]
  },
  {
   "cell_type": "code",
   "execution_count": 9,
   "metadata": {
    "collapsed": false
   },
   "outputs": [],
   "source": [
    "# initialize business data\n",
    "bcmap = {}\n",
    "with open('./business.json','r') as bf:\n",
    "    for line in bf:\n",
    "        l = json.loads(line)\n",
    "        \n",
    "        key = l['business_id']\n",
    "        #Business Category Dictionary\n",
    "        category = l['categories']\n",
    "        bcmap[key] = category\n",
    "\n",
    "# generate top categories\n",
    "category = {}\n",
    "for i in bcmap:\n",
    "    if user_input in bcmap[i]:\n",
    "        for j in bcmap[i]:\n",
    "            if j not in category:\n",
    "                category[j] = 1\n",
    "            else:\n",
    "                category[j] += 1\n",
    "top_cate = sorted(category.items(), key=lambda x:(-x[1]))[1:21]\n",
    "tc = []\n",
    "for i in top_cate:\n",
    "    tc.append(i[0])\n",
    "    \n",
    "# initialize business data   \n",
    "location = {}\n",
    "bcrmap = {}\n",
    "business_name = {}\n",
    "with open('./business.json','r') as bf:\n",
    "    for line in bf:\n",
    "        l = json.loads(line)\n",
    "        key = l['business_id']\n",
    "        category = l['categories']\n",
    "        \n",
    "        # Business City Dictionary\n",
    "        city = l['city']\n",
    "        location[key] = city\n",
    "        \n",
    "        # Business -> Category -> Star Dictionary\n",
    "        stars = l['stars']\n",
    "        valid = False\n",
    "        number_of_tc = 0\n",
    "        if key not in bcrmap:\n",
    "            bcrmap[key] = {}\n",
    "        for i in category:\n",
    "            if i in tc:\n",
    "                number_of_tc += 1\n",
    "                valid = True\n",
    "                bcrmap[key].setdefault(i,[]).append(stars)\n",
    "        if not valid or number_of_tc <3:\n",
    "            del bcrmap[key]\n",
    "            \n",
    "            \n",
    "        # Business name -> Address Dictionary\n",
    "        name = l['name'] +','  + l['address'] +','  + l['city'] +',' + l['state']\n",
    "        business_name[key] = name\n",
    "        "
   ]
  },
  {
   "cell_type": "code",
   "execution_count": 10,
   "metadata": {
    "collapsed": false
   },
   "outputs": [
    {
     "data": {
      "text/plain": [
       "['Food',\n",
       " 'Nightlife',\n",
       " 'Bars',\n",
       " 'Sandwiches',\n",
       " 'Fast Food',\n",
       " 'American (Traditional)',\n",
       " 'Pizza',\n",
       " 'Italian',\n",
       " 'Burgers',\n",
       " 'Breakfast & Brunch',\n",
       " 'Mexican',\n",
       " 'American (New)',\n",
       " 'Chinese',\n",
       " 'Cafes',\n",
       " 'Coffee & Tea',\n",
       " 'Japanese',\n",
       " 'Chicken Wings',\n",
       " 'Seafood',\n",
       " 'Event Planning & Services',\n",
       " 'Salad']"
      ]
     },
     "execution_count": 10,
     "metadata": {},
     "output_type": "execute_result"
    }
   ],
   "source": [
    "tc"
   ]
  },
  {
   "cell_type": "code",
   "execution_count": 14,
   "metadata": {
    "collapsed": false
   },
   "outputs": [],
   "source": [
    "# initialize user review data\n",
    "# User -> Categories -> Stars\n",
    "ucrmap = {}\n",
    "with open('./review.json', 'r') as rv:\n",
    "    for line in rv:\n",
    "        n1 = json.loads(line)\n",
    "        okey = n1['user_id']\n",
    "        ikeys = bcmap[n1['business_id']]\n",
    "        value = n1['stars']\n",
    "        if n1['user_id'] not in ucrmap:\n",
    "            ucrmap[okey] = {}\n",
    "        for ikey in ikeys:\n",
    "            if ikey in tc:\n",
    "                ucrmap[okey].setdefault(ikey, []).append(value)"
   ]
  },
  {
   "cell_type": "code",
   "execution_count": 20,
   "metadata": {
    "collapsed": false
   },
   "outputs": [
    {
     "name": "stdout",
     "output_type": "stream",
     "text": [
      "JT3Cnb1AL2ME2hR1W82I8g             {'Seafood': 0, 'Fast Food': 0, 'Chicken Wings': 0, 'American (Traditional)': 0, 'Sandwiches': 0, 'Nightlife': 0, 'Cafes': 0, 'Italian': 0, 'Event Planning & Services': 0, 'Mexican': 0, 'Food': 0, 'Burgers': 0, 'Bars': 0, 'Japanese': 0, 'American (New)': 0, 'Pizza': 0, 'Breakfast & Brunch': 0, 'Coffee & Tea': 0, 'Salad': 0, 'Chinese': 0}\n",
      "O_IeIHn3iGacjlSj8Z9cFg             {'Seafood': 0, 'Chicken Wings': 0, 'American (Traditional)': 3, 'Fast Food': 0, 'Nightlife': 5, 'Bars': 5, 'Italian': 5, 'Event Planning & Services': 0, 'Mexican': 0, 'Food': 4, 'Cafes': 0, 'Burgers': 0, 'Sandwiches': 0, 'Japanese': 0, 'American (New)': 3, 'Pizza': 0, 'Breakfast & Brunch': 2, 'Coffee & Tea': 0, 'Salad': 0, 'Chinese': 0}\n",
      "DDzs0zVelAStqGwm1j6U9A             {'Fast Food': 0, 'Chicken Wings': 0, 'Event Planning & Services': 4, 'Sandwiches': 0, 'Nightlife': 0, 'American (New)': 0, 'Cafes': 0, 'Italian': 4, 'Burgers': 0, 'Mexican': 3.3333333333333335, 'Seafood': 4, 'Food': 1, 'Bars': 0, 'Japanese': 0, 'American (Traditional)': 0, 'Pizza': 5, 'Breakfast & Brunch': 0, 'Coffee & Tea': 0, 'Salad': 0, 'Chinese': 0}\n",
      "McLqvYLBQoCFQikU9dC4cQ             {'Fast Food': 0, 'Chicken Wings': 0, 'American (Traditional)': 3.7777777777777777, 'Sandwiches': 5, 'Nightlife': 3.8095238095238093, 'Chinese': 0, 'American (New)': 4.285714285714286, 'Japanese': 4.5, 'Italian': 0, 'Burgers': 3.5, 'Mexican': 0, 'Seafood': 5, 'Food': 4.6875, 'Bars': 3.7222222222222223, 'Event Planning & Services': 2, 'Pizza': 4.2, 'Breakfast & Brunch': 4.5, 'Coffee & Tea': 5, 'Salad': 5, 'Cafes': 4.75}\n"
     ]
    }
   ],
   "source": [
    "n = 0\n",
    "for k, v in ucrmap.items():\n",
    "    n += 1\n",
    "    if n < 5:\n",
    "        print(k, '           ', v)"
   ]
  },
  {
   "cell_type": "code",
   "execution_count": 12,
   "metadata": {
    "collapsed": false
   },
   "outputs": [],
   "source": [
    "\n",
    "for business in bcrmap:\n",
    "    for k, v in bcrmap[business].items():\n",
    "        bcrmap[business][k] = statistics.mean(v)\n",
    "        \n",
    "for business in bcrmap:\n",
    "    for i in tc:\n",
    "        if i not in bcrmap[business]:\n",
    "            bcrmap[business][i] = 0\n",
    "            \n",
    "nbcrmap = {}\n",
    "for k, v in bcrmap.items():\n",
    "    nbcrmap[k] = []\n",
    "    for i, j in v.items():\n",
    "        nbcrmap[k].append(j)"
   ]
  },
  {
   "cell_type": "code",
   "execution_count": 15,
   "metadata": {
    "collapsed": false
   },
   "outputs": [],
   "source": [
    "# Compose user category vector\n",
    "for user in ucrmap:\n",
    "    for cate, value in ucrmap[user].items():\n",
    "        ucrmap[user][cate] = statistics.mean(value)\n",
    "for user in ucrmap:\n",
    "    for i in tc:\n",
    "        if i not in ucrmap[user]:\n",
    "            ucrmap[user][i] = 0\n",
    "            \n",
    "nucrmap = {}\n",
    "for k, v in ucrmap.items():\n",
    "    nucrmap[k] = []\n",
    "    for i, j in v.items():\n",
    "        nucrmap[k].append(j)"
   ]
  },
  {
   "cell_type": "code",
   "execution_count": 16,
   "metadata": {
    "collapsed": false
   },
   "outputs": [],
   "source": [
    "# create a proximity matrix between users\n",
    "listV = list(nucrmap.values())\n",
    "listK = list(nucrmap.keys())\n",
    "pm = []\n",
    "\n",
    "for i in range(1000):\n",
    "    pm.append([])\n",
    "    for j in range(0,1000):\n",
    "        if i == j:\n",
    "            pm[i].append(0)\n",
    "        else:\n",
    "            v1 = listV[i]\n",
    "            v2 = listV[j]\n",
    "            dst1 = distance.euclidean(v1, v2)\n",
    "            pm[i].append(dst1)"
   ]
  },
  {
   "cell_type": "code",
   "execution_count": 17,
   "metadata": {
    "collapsed": false,
    "scrolled": false
   },
   "outputs": [
    {
     "data": {
      "text/plain": [
       "<matplotlib.figure.Figure at 0x1134ae4a8>"
      ]
     },
     "metadata": {},
     "output_type": "display_data"
    },
    {
     "data": {
      "image/png": "[encoded data removed]",
      "text/plain": [
       "<matplotlib.figure.Figure at 0x1134ae240>"
      ]
     },
     "metadata": {},
     "output_type": "display_data"
    }
   ],
   "source": [
    "# Agglomerative clustering using scipy\n",
    "Z = scipy.cluster.hierarchy.linkage(pm, method='average')\n",
    "plt.clf()\n",
    "fig = plt.figure()\n",
    "dd = scipy.cluster.hierarchy.dendrogram(Z)\n",
    "plt.savefig('{}.pdf'.format('average'))\n",
    "plt.show()"
   ]
  },
  {
   "cell_type": "code",
   "execution_count": 53,
   "metadata": {
    "collapsed": false
   },
   "outputs": [],
   "source": [
    "#agglomerative clustering using sklearn \n",
    "data = []\n",
    "for k,v in nucrmap.items():\n",
    "    data.append(v)\n",
    "np.save('123', np.array(data[:1000]))\n",
    "data1 = np.load('123.npy')"
   ]
  },
  {
   "cell_type": "code",
   "execution_count": 63,
   "metadata": {
    "collapsed": true
   },
   "outputs": [],
   "source": [
    "# get number of clusters from above plot and generate clusters dictionary\n",
    "model = cluster.AgglomerativeClustering(linkage='average', n_clusters=10)\n",
    "result = model.fit_predict(data1)\n",
    "clusters = {}\n",
    "for i in range(len(result)):\n",
    "    k = result[i]\n",
    "    v = data1[i]\n",
    "    clusters.setdefault(k, []).append(v)"
   ]
  },
  {
   "cell_type": "code",
   "execution_count": 64,
   "metadata": {
    "collapsed": true
   },
   "outputs": [],
   "source": [
    "# user index corresponding to user vector dictionary\n",
    "index = listK.index(u_id)"
   ]
  },
  {
   "cell_type": "code",
   "execution_count": 65,
   "metadata": {
    "collapsed": false
   },
   "outputs": [],
   "source": [
    "# Average Vector for each cluster generated above\n",
    "\n",
    "average_vector = {}\n",
    "for i in list(clusters.keys()):\n",
    "    average_vector[i] = np.mean(clusters[i], axis=0)\n",
    "    "
   ]
  },
  {
   "cell_type": "code",
   "execution_count": 66,
   "metadata": {
    "collapsed": false
   },
   "outputs": [],
   "source": [
    "# Get the users cluster vector \n",
    "user_vector = average_vector[result[index]]"
   ]
  },
  {
   "cell_type": "code",
   "execution_count": 67,
   "metadata": {
    "collapsed": false
   },
   "outputs": [],
   "source": [
    "# Perfor inner dot product between user_vector and each business vector\n",
    "\n",
    "result_bcrmap = {}\n",
    "for i in nbcrmap:\n",
    "    result_bcrmap[i] = np.inner(user_vector, nbcrmap[i])"
   ]
  },
  {
   "cell_type": "code",
   "execution_count": 68,
   "metadata": {
    "collapsed": false
   },
   "outputs": [],
   "source": [
    "# Sort the business based on the minimum value of above operation. Keep top 20 businesses\n",
    "top_business = sorted(result_bcrmap.items(), key=lambda x:(x[1]))[1:21]"
   ]
  },
  {
   "cell_type": "code",
   "execution_count": 69,
   "metadata": {
    "collapsed": false,
    "scrolled": true
   },
   "outputs": [
    {
     "name": "stdout",
     "output_type": "stream",
     "text": [
      "Pizza Hut,7941 Euclid Ave,Cleveland,OH\n",
      "Pizza Hut,1909 Milton Rd,Charlotte,NC\n",
      "Pizza Hut,3530 Mt Holly Hunterville Rd,Charlotte,NC\n",
      "Pizza Hut,10616 Lorain Ave,Cleveland,OH\n",
      "Pizza Hut,6557 Broadway Ave,Cleveland,OH\n",
      "Pizza Hut,1008 N Court St,Medina,OH\n",
      "Pizza Hut,3734 W T Harris Blvd,Charlotte,NC\n",
      "Pizza Pizza,1197 Ellesmere Road,Scarborough,ON\n",
      "Pizza Hut,20515 Southgate Park Rd, Ste 100,Cleveland,OH\n",
      "Pizza Hut,1165 Mentor Ave,Painesville,OH\n",
      "Pizza Hut,130 Davis Drive,Newmarket,ON\n",
      "Pizza Hut,2324 Ardmore Blvd,Forest Hills,PA\n",
      "Pizza Hut,1112 Washington Pike,Bridgeville,PA\n",
      "Pizza Hut,34165 Aurora Rd,Solon,OH\n",
      "Pizza Hut,10050 W Bell Rd, Ste 22,Sun City,AZ\n",
      "Pizza Hut,9045 Airport Road,Brampton,ON\n",
      "KFC,16599 Yonge Street,Newmarket,ON\n",
      "Salsarita's Fresh Mexican Grill,8111 Concord Mills Blvd, Ste 101,Concord,NC\n",
      "KFC,1516 Greenway Cross,Madison,WI\n",
      "Popeyes,3420 William Penn Hwy,Pittsburgh,PA\n"
     ]
    }
   ],
   "source": [
    "# print out the recommended businesses\n",
    "\n",
    "for k,v in top_business:\n",
    "    print(business_name[k])"
   ]
  },
  {
   "cell_type": "markdown",
   "metadata": {},
   "source": [
    "------\n",
    "What to do next\n",
    "==================\n",
    "Apply one million on the dataset\n"
   ]
  },
  {
   "cell_type": "code",
   "execution_count": null,
   "metadata": {
    "collapsed": true
   },
   "outputs": [],
   "source": []
  },
  {
   "cell_type": "code",
   "execution_count": null,
   "metadata": {
    "collapsed": true
   },
   "outputs": [],
   "source": []
  }
 ],
 "metadata": {
  "kernelspec": {
   "display_name": "Python 3",
   "language": "python",
   "name": "python3"
  },
  "language_info": {
   "codemirror_mode": {
    "name": "ipython",
    "version": 3
   },
   "file_extension": ".py",
   "mimetype": "text/x-python",
   "name": "python",
   "nbconvert_exporter": "python",
   "pygments_lexer": "ipython3",
   "version": "3.5.2"
  }
 },
 "nbformat": 4,
 "nbformat_minor": 2
}
