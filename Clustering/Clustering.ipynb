{
 "cells": [
  {
   "cell_type": "code",
   "execution_count": 1,
   "metadata": {
    "collapsed": true
   },
   "outputs": [],
   "source": [
    "import json\n",
    "import statistics\n",
    "import numpy as np\n",
    "import matplotlib.pyplot as plt\n",
    "from scipy.spatial import distance\n",
    "from scipy.cluster.hierarchy import linkage\n",
    "from scipy.cluster.hierarchy import fcluster\n",
    "from scipy.spatial.distance import pdist, squareform\n",
    "import sklearn.cluster as cluster\n",
    "import time\n",
    "import scipy\n",
    "import seaborn as sns\n",
    "import random\n",
    "sns.set_context('poster')\n",
    "sns.set_color_codes()\n",
    "plot_kwds = {'alpha': 0.25, 's':80, 'linewidths':0}"
   ]
  },
  {
   "cell_type": "markdown",
   "metadata": {},
   "source": [
    "# set up type of service"
   ]
  },
  {
   "cell_type": "code",
   "execution_count": 2,
   "metadata": {
    "collapsed": true
   },
   "outputs": [],
   "source": [
    "# user input\n",
    "user_input = 'Restaurants'\n",
    "# u_id = 'McLqvYLBQoCFQikU9dC4cQ'"
   ]
  },
  {
   "cell_type": "markdown",
   "metadata": {},
   "source": [
    "# read iin user file and generate valid user based on review count"
   ]
  },
  {
   "cell_type": "code",
   "execution_count": 3,
   "metadata": {
    "collapsed": true
   },
   "outputs": [],
   "source": [
    "# read in user file\n",
    "user = {}\n",
    "with open('./user.json', 'r') as uf:\n",
    "    for line in uf:\n",
    "        l = json.loads(line)\n",
    "        key = l['user_id']\n",
    "        value = l['review_count']\n",
    "        user[key] = value\n",
    "# filter out valid user\n",
    "# thredhold define the number of review a user has\n",
    "def filter_user(user, thredhold):\n",
    "    tmp = sorted(user.items(), key=lambda x:-x[1])\n",
    "    listu = [x[0] for x in tmp if x[1] > thredhold]\n",
    "    new_user = {}\n",
    "    for i in listu:\n",
    "        new_user[i] = user[i]\n",
    "    return new_user\n",
    "\n",
    "valid_user = filter_user(user, 50)"
   ]
  },
  {
   "cell_type": "markdown",
   "metadata": {},
   "source": [
    "# read in business file, compose business categories, business rating on category and business postal code dictionary"
   ]
  },
  {
   "cell_type": "code",
   "execution_count": 4,
   "metadata": {},
   "outputs": [],
   "source": [
    "# initialize business data\n",
    "bcmap = {}\n",
    "with open('./business.json','r') as bf:\n",
    "    for line in bf:\n",
    "        l = json.loads(line)\n",
    "        \n",
    "        key = l['business_id']\n",
    "        #Business Category Dictionary\n",
    "        category = l['categories']\n",
    "        bcmap[key] = category\n",
    "\n",
    "# generate top categories\n",
    "category = {}\n",
    "for i in bcmap:\n",
    "    if user_input in bcmap[i]:\n",
    "        for j in bcmap[i]:\n",
    "            if j not in category:\n",
    "                category[j] = 1\n",
    "            else:\n",
    "                category[j] += 1\n",
    "top_cate = sorted(category.items(), key=lambda x:(-x[1]))[1:21]\n",
    "tc = []\n",
    "for i in top_cate:\n",
    "    tc.append(i[0])\n",
    "    \n",
    "# initialize business data   \n",
    "location = {}\n",
    "bcrmap = {}\n",
    "business_name = {}\n",
    "with open('./business.json','r') as bf:\n",
    "    for line in bf:\n",
    "        l = json.loads(line)\n",
    "        key = l['business_id']\n",
    "        category = l['categories']\n",
    "        \n",
    "        # Business City Dictionary\n",
    "        city = l['city']\n",
    "        location[key] = city\n",
    "        \n",
    "        # Business -> Category -> Star Dictionary\n",
    "        stars = l['stars']\n",
    "        valid = False\n",
    "        number_of_tc = 0\n",
    "        if key not in bcrmap:\n",
    "            bcrmap[key] = {}\n",
    "        for i in category:\n",
    "            if i in tc:\n",
    "                number_of_tc += 1\n",
    "                valid = True\n",
    "                bcrmap[key].setdefault(i,[]).append(stars)\n",
    "        if not valid or number_of_tc <3:\n",
    "            del bcrmap[key]\n",
    "            \n",
    "            \n",
    "        # Business name -> Address Dictionary\n",
    "        name = l['name'] +','  + l['address'] +','  + l['city'] +',' + l['state']\n",
    "        business_name[key] = name\n",
    "        "
   ]
  },
  {
   "cell_type": "markdown",
   "metadata": {},
   "source": [
    "# read in review file and generate user to category to rating map"
   ]
  },
  {
   "cell_type": "code",
   "execution_count": 5,
   "metadata": {},
   "outputs": [],
   "source": [
    "# initialize user review data\n",
    "# User -> Categories -> Stars\n",
    "ucrmap = {}\n",
    "with open('./review.json', 'r') as rv:\n",
    "    for line in rv:\n",
    "        n1 = json.loads(line)\n",
    "        okey = n1['user_id']\n",
    "        ikeys = bcmap[n1['business_id']]\n",
    "        value = n1['stars']\n",
    "        if n1['user_id'] not in ucrmap:\n",
    "            ucrmap[okey] = {}\n",
    "        for ikey in ikeys:\n",
    "            if ikey in tc:\n",
    "                ucrmap[okey].setdefault(ikey, []).append(value)"
   ]
  },
  {
   "cell_type": "markdown",
   "metadata": {},
   "source": [
    "# transform rating to vector format"
   ]
  },
  {
   "cell_type": "code",
   "execution_count": 6,
   "metadata": {},
   "outputs": [],
   "source": [
    "\n",
    "for business in bcrmap:\n",
    "    for k, v in bcrmap[business].items():\n",
    "        bcrmap[business][k] = statistics.mean(v)\n",
    "        \n",
    "for business in bcrmap:\n",
    "    for i in tc:\n",
    "        if i not in bcrmap[business]:\n",
    "            bcrmap[business][i] = 0\n",
    "            \n",
    "nbcrmap = {}\n",
    "for k, v in bcrmap.items():\n",
    "    nbcrmap[k] = []\n",
    "    for i, j in v.items():\n",
    "        nbcrmap[k].append(j)"
   ]
  },
  {
   "cell_type": "code",
   "execution_count": 7,
   "metadata": {},
   "outputs": [],
   "source": [
    "# Compose user category vector\n",
    "for user in ucrmap:\n",
    "    for cate, value in ucrmap[user].items():\n",
    "        ucrmap[user][cate] = statistics.mean(value)\n",
    "for user in ucrmap:\n",
    "    for i in tc:\n",
    "        if i not in ucrmap[user]:\n",
    "            ucrmap[user][i] = 0\n",
    "            \n",
    "nucrmap = {}\n",
    "for k, v in ucrmap.items():\n",
    "    nucrmap[k] = []\n",
    "    for i, j in v.items():\n",
    "        nucrmap[k].append(j)"
   ]
  },
  {
   "cell_type": "code",
   "execution_count": 114,
   "metadata": {
    "collapsed": true
   },
   "outputs": [],
   "source": [
    "raw = sorted(valid_user.items(), key=lambda x:-x[1])\n",
    "listU = [x[0] for x in raw[:100]]\n",
    "data = {}\n",
    "for i in listU:\n",
    "    data[i] = nucrmap[i]"
   ]
  },
  {
   "cell_type": "code",
   "execution_count": 115,
   "metadata": {},
   "outputs": [],
   "source": [
    "listV = list(data.values())\n",
    "listK = list(data.keys())\n"
   ]
  },
  {
   "cell_type": "code",
   "execution_count": 116,
   "metadata": {
    "scrolled": false
   },
   "outputs": [
    {
     "data": {
      "text/plain": [
       "<matplotlib.figure.Figure at 0x7ff25ea4de80>"
      ]
     },
     "metadata": {},
     "output_type": "display_data"
    },
    {
     "data": {
      "image/png": "[encoded data removed]",
      "text/plain": [
       "<matplotlib.figure.Figure at 0x7ff25ea4d1d0>"
      ]
     },
     "metadata": {},
     "output_type": "display_data"
    }
   ],
   "source": [
    "# Agglomerative clustering using scipy\n",
    "Z = scipy.cluster.hierarchy.linkage(listV, method='average')\n",
    "plt.clf()\n",
    "fig = plt.figure()\n",
    "dd = scipy.cluster.hierarchy.dendrogram(Z)\n",
    "plt.savefig('{}.pdf'.format('average'))\n",
    "plt.show()"
   ]
  },
  {
   "cell_type": "markdown",
   "metadata": {},
   "source": [
    "# Use cophenetic correlation for evaluation "
   ]
  },
  {
   "cell_type": "code",
   "execution_count": 117,
   "metadata": {
    "scrolled": false
   },
   "outputs": [
    {
     "name": "stdout",
     "output_type": "stream",
     "text": [
      "c, coph_dists = cophenet(Z, pdist(X)); c is ideally close to one, c=0.83762182127852514\n"
     ]
    }
   ],
   "source": [
    "c, coph_dists = scipy.cluster.hierarchy.cophenet(Z, pdist(listV))\n",
    "print(\"c, coph_dists = cophenet(Z, pdist(X)); c is ideally close to one, c=\"+repr(c))"
   ]
  },
  {
   "cell_type": "markdown",
   "metadata": {},
   "source": [
    "size = 8000;   c, coph_dists = cophenet(Z, pdist(X)); c is ideally close to one, c=0.68441209386784496  \n",
    "size = 5000;   c, coph_dists = cophenet(Z, pdist(X)); c is ideally close to one, c=0.69580000510359319  \n",
    "size = 3000;   c, coph_dists = cophenet(Z, pdist(X)); c is ideally close to one, c=0.70658970892720374  \n",
    "size = 2000;   c, coph_dists = cophenet(Z, pdist(X)); c is ideally close to one, c=0.73391695357663456  \n",
    "size = 1000;   c, coph_dists = cophenet(Z, pdist(X)); c is ideally close to one, c=0.73100111995588535  \n",
    "size = 500;    c, coph_dists = cophenet(Z, pdist(X)); c is ideally close to one, c=0.73846506222107178  \n",
    "size = 100;    c, coph_dists = cophenet(Z, pdist(X)); c is ideally close to one, c=0.83762182127852514  \n",
    "size = 50;     c, coph_dists = cophenet(Z, pdist(X)); c is ideally close to one, c=0.87879134020736049  \n",
    "size = 10;     c, coph_dists = cophenet(Z, pdist(X)); c is ideally close to one, c=0.91836580287816971  \n",
    "size = 3;      c, coph_dists = cophenet(Z, pdist(X)); c is ideally close to one, c=0.55192082653918684  "
   ]
  },
  {
   "cell_type": "code",
   "execution_count": 99,
   "metadata": {},
   "outputs": [],
   "source": [
    "#agglomerative clustering using sklearn \n",
    "data1 = []\n",
    "for k,v in nucrmap.items():\n",
    "    data1.append(v)\n",
    "np.save('123', np.array(data1))\n",
    "data1 = np.load('123.npy')"
   ]
  },
  {
   "cell_type": "code",
   "execution_count": 100,
   "metadata": {},
   "outputs": [],
   "source": [
    "# get number of clusters from above plot and generate clusters dictionary\n",
    "model = cluster.AgglomerativeClustering(linkage='average', n_clusters=10)\n",
    "result = model.fit_predict(Z)\n",
    "clusters = {}\n",
    "for i in range(len(result)):\n",
    "    k = result[i]\n",
    "    v = data1[i]\n",
    "    clusters.setdefault(k, []).append(v)"
   ]
  },
  {
   "cell_type": "code",
   "execution_count": 101,
   "metadata": {
    "collapsed": true
   },
   "outputs": [],
   "source": [
    "# user index corresponding to user vector dictionary\n",
    "index = random.randint(0,len(listK))"
   ]
  },
  {
   "cell_type": "code",
   "execution_count": 102,
   "metadata": {},
   "outputs": [],
   "source": [
    "# Average Vector for each cluster generated above\n",
    "\n",
    "average_vector = {}\n",
    "for i in list(clusters.keys()):\n",
    "    average_vector[i] = np.mean(clusters[i], axis=0)\n",
    "    "
   ]
  },
  {
   "cell_type": "code",
   "execution_count": 103,
   "metadata": {},
   "outputs": [],
   "source": [
    "# Get the users cluster vector \n",
    "user_vector = average_vector[result[index]]"
   ]
  },
  {
   "cell_type": "code",
   "execution_count": 104,
   "metadata": {},
   "outputs": [],
   "source": [
    "# Perfor inner dot product between user_vector and each business vector\n",
    "\n",
    "result_bcrmap = {}\n",
    "for i in nbcrmap:\n",
    "    result_bcrmap[i] = np.inner(user_vector, nbcrmap[i])"
   ]
  },
  {
   "cell_type": "code",
   "execution_count": 105,
   "metadata": {},
   "outputs": [],
   "source": [
    "# Sort the business based on the minimum value of above operation. Keep top 20 businesses\n",
    "top_business = sorted(result_bcrmap.items(), key=lambda x:(x[1]))[1:21]"
   ]
  },
  {
   "cell_type": "code",
   "execution_count": 106,
   "metadata": {
    "scrolled": true
   },
   "outputs": [
    {
     "name": "stdout",
     "output_type": "stream",
     "text": [
      "Dairy Queen,900 N Arizona Ave,Chandler,AZ\n",
      "Tropical Smoothie,10670 Southern Highlands Pkwy, Ste 100,Las Vegas,NV\n",
      "Domino's Pizza,1802 S New Hope Rd,Gastonia,NC\n",
      "Domino's Pizza,703 S Gammon Rd,Madison,WI\n",
      "Subway,2890 Las Vegas Blvd S,Las Vegas,NV\n",
      "Krispy Krunchy Chicken,4105 E Mcdowell Rd,Phoenix,AZ\n",
      "Pizza Hut,1165 Mentor Ave,Painesville,OH\n",
      "Pizza Hut,10050 W Bell Rd, Ste 22,Sun City,AZ\n",
      "Pizza Hut,3734 W T Harris Blvd,Charlotte,NC\n",
      "Pizza Hut,3530 Mt Holly Hunterville Rd,Charlotte,NC\n",
      "Pizza Hut,7002 Biddulph Rd,Brooklyn,OH\n",
      "Pizza Hut,6557 Broadway Ave,Cleveland,OH\n",
      "Pizza Hut,10616 Lorain Ave,Cleveland,OH\n",
      "Pizza Hut,7941 Euclid Ave,Cleveland,OH\n",
      "Pizza Hut,1112 Washington Pike,Bridgeville,PA\n",
      "Pizza Hut,2324 Ardmore Blvd,Forest Hills,PA\n",
      "Pizza Hut,9045 Airport Road,Brampton,ON\n",
      "Pizza Pizza,1197 Ellesmere Road,Scarborough,ON\n",
      "Pizza Hut,34165 Aurora Rd,Solon,OH\n",
      "Pizza Hut,130 Davis Drive,Newmarket,ON\n"
     ]
    }
   ],
   "source": [
    "# print out the recommended businesses\n",
    "\n",
    "for k,v in top_business:\n",
    "    print(business_name[k])"
   ]
  },
  {
   "cell_type": "markdown",
   "metadata": {},
   "source": []
  }
 ],
 "metadata": {
  "kernelspec": {
   "display_name": "Python 3",
   "language": "python",
   "name": "python3"
  },
  "language_info": {
   "codemirror_mode": {
    "name": "ipython",
    "version": 3
   },
   "file_extension": ".py",
   "mimetype": "text/x-python",
   "name": "python",
   "nbconvert_exporter": "python",
   "pygments_lexer": "ipython3",
   "version": "3.5.2"
  }
 },
 "nbformat": 4,
 "nbformat_minor": 2
}
