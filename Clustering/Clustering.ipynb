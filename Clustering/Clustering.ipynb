{
 "cells": [
  {
   "cell_type": "code",
   "execution_count": null,
   "metadata": {
    "collapsed": true
   },
   "outputs": [],
   "source": [
    "import json\n",
    "import statistics\n",
    "import numpy as np"
   ]
  },
  {
   "cell_type": "code",
   "execution_count": 2,
   "metadata": {
    "collapsed": false
   },
   "outputs": [],
   "source": [
    "bcmap = {}\n",
    "with open('./business.json','r') as bf:\n",
    "    for line in bf:\n",
    "        newline = json.loads(line)\n",
    "        key = newline['business_id']\n",
    "        value = newline['categories']\n",
    "        bcmap[key] = value\n"
   ]
  },
  {
   "cell_type": "code",
   "execution_count": 3,
   "metadata": {
    "collapsed": true
   },
   "outputs": [],
   "source": [
    "category = {}\n",
    "for i in bcmap:\n",
    "    if 'Restaurants' in bcmap[i]:\n",
    "        for j in bcmap[i]:\n",
    "            if j not in category:\n",
    "                category[j] = 1\n",
    "            else:\n",
    "                category[j] += 1"
   ]
  },
  {
   "cell_type": "code",
   "execution_count": 4,
   "metadata": {
    "collapsed": true
   },
   "outputs": [],
   "source": [
    "top_cate = sorted(category.items(), key=lambda x:(-x[1]))[1:21]"
   ]
  },
  {
   "cell_type": "code",
   "execution_count": 5,
   "metadata": {
    "collapsed": true
   },
   "outputs": [],
   "source": [
    "tc = []\n",
    "for i in top_cate:\n",
    "    tc.append(i[0])"
   ]
  },
  {
   "cell_type": "code",
   "execution_count": 9,
   "metadata": {
    "collapsed": false
   },
   "outputs": [
    {
     "data": {
      "text/plain": [
       "['Food',\n",
       " 'Nightlife',\n",
       " 'Bars',\n",
       " 'Sandwiches',\n",
       " 'Fast Food',\n",
       " 'American (Traditional)',\n",
       " 'Pizza',\n",
       " 'Italian',\n",
       " 'Burgers',\n",
       " 'Breakfast & Brunch',\n",
       " 'Mexican',\n",
       " 'American (New)',\n",
       " 'Chinese',\n",
       " 'Cafes',\n",
       " 'Coffee & Tea',\n",
       " 'Japanese',\n",
       " 'Chicken Wings',\n",
       " 'Seafood',\n",
       " 'Event Planning & Services',\n",
       " 'Salad']"
      ]
     },
     "execution_count": 9,
     "metadata": {},
     "output_type": "execute_result"
    }
   ],
   "source": [
    "tc"
   ]
  },
  {
   "cell_type": "code",
   "execution_count": 22,
   "metadata": {
    "collapsed": false
   },
   "outputs": [],
   "source": [
    "ucrmap = {}\n",
    "with open('./review.json', 'r') as rv:\n",
    "    for line in rv:\n",
    "        n1 = json.loads(line)\n",
    "        okey = n1['user_id']\n",
    "        ikeys = bcmap[n1['business_id']]\n",
    "        value = n1['stars']\n",
    "        if n1['user_id'] not in ucrmap:\n",
    "            ucrmap[okey] = {}\n",
    "        for ikey in ikeys:\n",
    "            if ikey in tc:\n",
    "                ucrmap[okey].setdefault(ikey, []).append(value)"
   ]
  },
  {
   "cell_type": "code",
   "execution_count": 24,
   "metadata": {
    "collapsed": false
   },
   "outputs": [],
   "source": [
    "for user in ucrmap:\n",
    "    for cate, value in ucrmap[user].items():\n",
    "        ucrmap[user][cate] = statistics.mean(value)"
   ]
  },
  {
   "cell_type": "code",
   "execution_count": 25,
   "metadata": {
    "collapsed": false
   },
   "outputs": [],
   "source": [
    "for user in ucrmap:\n",
    "    for i in tc:\n",
    "        if i not in ucrmap[user]:\n",
    "            ucrmap[user][i] = 0"
   ]
  },
  {
   "cell_type": "code",
   "execution_count": 26,
   "metadata": {
    "collapsed": false
   },
   "outputs": [],
   "source": [
    "nucrmap = {}\n",
    "for k, v in ucrmap.items():\n",
    "    nucrmap[k] = []\n",
    "    for i, j in v.items():\n",
    "        nucrmap[k].append(j)"
   ]
  },
  {
   "cell_type": "code",
   "execution_count": 29,
   "metadata": {
    "collapsed": false,
    "scrolled": true
   },
   "outputs": [
    {
     "name": "stdout",
     "output_type": "stream",
     "text": [
      "AP95DaCKAzmQwRpj1B1X-Q           [0 3 0 0 0 0 0 0 1 3 0 0 3 1 0 1 0 0 0 0]\n",
      "gPc8sWIh9unW0CcnrXS6hg           [ 0.   2.   0.   5.   0.   4.   0.   0.   0.   0.   2.   0.   2.   4.   0.\n",
      "  2.5  0.   0.   0.   0. ]\n",
      "AgTQ5MJqrmqD3cgYz1XmGA           [0 1 0 0 1 0 0 0 0 1 0 0 0 0 0 0 0 0 0 0]\n",
      "v9Ak8reRBQ_IpJUy9PS6sg           [0 0 1 0 0 0 0 0 0 0 0 0 0 1 0 0 0 0 0 0]\n",
      "ULgXqB_bArS3uN4Qo_KvZQ           [ 3.46666667  3.625       3.5         3.5         4.5         3.83333333\n",
      "  4.          5.          3.5         3.625       0.          0.          4.\n",
      "  3.78571429  0.          4.5         5.          3.6         0.          3.6       ]\n",
      "PQJOS_KMqvHem64kV3iocw           [0 3 0 0 0 0 0 0 0 3 0 0 0 0 0 0 0 0 0 0]\n",
      "cYV3RfM7mzKul76U48H0uQ           [0 0 0 2 2 0 0 0 0 0 0 0 0 2 0 0 2 0 0 0]\n",
      "r-wCbRWALOOxUnjvS_00GQ           [0 5 0 0 0 0 0 0 5 0 0 0 0 0 0 0 0 5 0 0]\n",
      "CsqwvRdN6kT4Wffoo52KvA           [0 0 0 0 0 0 1 0 0 0 0 0 0 1 0 0 0 0 0 0]\n",
      "5TGvxJv6jVmKLarAHuIjAQ           [ 3.   1.   0.   0.   0.   0.   0.   1.   0.   0.   0.   1.5  0.   0.   0.\n",
      "  0.   0.   0.   0.   0. ]\n"
     ]
    }
   ],
   "source": [
    "n = 0\n",
    "for k, v in nucrmap.items():\n",
    "    nucrmap[k] = np.array(v)\n",
    "for k, v in nucrmap.items():\n",
    "    if n < 10:\n",
    "        n += 1\n",
    "        print(k, '         ', v)"
   ]
  },
  {
   "cell_type": "code",
   "execution_count": 30,
   "metadata": {
    "collapsed": false
   },
   "outputs": [
    {
     "data": {
      "text/plain": [
       "5.0"
      ]
     },
     "execution_count": 30,
     "metadata": {},
     "output_type": "execute_result"
    }
   ],
   "source": [
    "for v in nucrmap.values():\n",
    "    dist = np.linalg.norm(v[0] - v[1])\n",
    "dist"
   ]
  },
  {
   "cell_type": "code",
   "execution_count": 31,
   "metadata": {
    "collapsed": true
   },
   "outputs": [],
   "source": [
    "from scipy.spatial import distance"
   ]
  },
  {
   "cell_type": "code",
   "execution_count": 32,
   "metadata": {
    "collapsed": true
   },
   "outputs": [],
   "source": [
    "a = (1,2,3)\n",
    "b = (4,5,6)\n",
    "dst = distance.euclidean(a,b)"
   ]
  },
  {
   "cell_type": "code",
   "execution_count": 33,
   "metadata": {
    "collapsed": false
   },
   "outputs": [
    {
     "data": {
      "text/plain": [
       "5.196152422706632"
      ]
     },
     "execution_count": 33,
     "metadata": {},
     "output_type": "execute_result"
    }
   ],
   "source": [
    "dst"
   ]
  },
  {
   "cell_type": "code",
   "execution_count": 95,
   "metadata": {
    "collapsed": false
   },
   "outputs": [],
   "source": [
    "listV = list(nucrmap.values())\n",
    "listK = list(nucrmap.keys())\n",
    "pm = []\n",
    "\n",
    "for i in range(10):\n",
    "    pm.append([])\n",
    "    for j in range(0,10):\n",
    "        if i == j:\n",
    "            pm[i].append(0)\n",
    "        else:\n",
    "            v1 = listV[i]\n",
    "            v2 = listV[j]\n",
    "            dst1 = distance.euclidean(v1, v2)\n",
    "            pm[i].append(dst1)"
   ]
  },
  {
   "cell_type": "code",
   "execution_count": 96,
   "metadata": {
    "collapsed": false
   },
   "outputs": [],
   "source": [
    "import scipy\n",
    "\n",
    "\n",
    "Z = scipy.cluster.hierarchy.linkage(pm, method='average')\n",
    "#     R = scipy.cluster.hierarchy.inconsistent(Z, d=2)\n",
    "plt.clf()\n",
    "fig = plt.figure()\n",
    "dd = scipy.cluster.hierarchy.dendrogram(Z)\n",
    "plt.savefig('{}.pdf'.format(method))"
   ]
  },
  {
   "cell_type": "code",
   "execution_count": 97,
   "metadata": {
    "collapsed": false
   },
   "outputs": [
    {
     "data": {
      "text/plain": [
       "<matplotlib.figure.Figure at 0x186593ef0>"
      ]
     },
     "metadata": {},
     "output_type": "display_data"
    },
    {
     "data": {
      "image/png": "[encoded data removed]",
      "text/plain": [
       "<matplotlib.figure.Figure at 0x186593a58>"
      ]
     },
     "metadata": {},
     "output_type": "display_data"
    }
   ],
   "source": [
    "plt.show()"
   ]
  },
  {
   "cell_type": "code",
   "execution_count": 72,
   "metadata": {
    "collapsed": false
   },
   "outputs": [
    {
     "data": {
      "text/plain": [
       "<matplotlib.figure.Figure at 0x1862d5a58>"
      ]
     },
     "metadata": {},
     "output_type": "display_data"
    }
   ],
   "source": [
    "plt.show()"
   ]
  },
  {
   "cell_type": "code",
   "execution_count": 105,
   "metadata": {
    "collapsed": false
   },
   "outputs": [
    {
     "data": {
      "text/plain": [
       "array([[  3.        ,   8.        ,   2.00026103,   2.        ],\n",
       "       [  2.        ,  10.        ,   3.75536032,   3.        ],\n",
       "       [  0.        ,   5.        ,   5.67509385,   2.        ],\n",
       "       [  9.        ,  11.        ,   6.59469791,   4.        ],\n",
       "       [  6.        ,  13.        ,   7.14090804,   5.        ],\n",
       "       [ 12.        ,  14.        ,   8.64240296,   7.        ],\n",
       "       [  1.        ,   7.        ,  16.40008504,   2.        ],\n",
       "       [ 15.        ,  16.        ,  16.65907229,   9.        ],\n",
       "       [  4.        ,  17.        ,  32.8963237 ,  10.        ]])"
      ]
     },
     "execution_count": 105,
     "metadata": {},
     "output_type": "execute_result"
    }
   ],
   "source": [
    "Z"
   ]
  },
  {
   "cell_type": "code",
   "execution_count": 124,
   "metadata": {
    "collapsed": true
   },
   "outputs": [],
   "source": [
    "u_id = 'AgTQ5MJqrmqD3cgYz1XmGA'\n",
    "listK = list(nucrmap.keys())\n"
   ]
  },
  {
   "cell_type": "code",
   "execution_count": 125,
   "metadata": {
    "collapsed": false
   },
   "outputs": [
    {
     "data": {
      "text/plain": [
       "2"
      ]
     },
     "execution_count": 125,
     "metadata": {},
     "output_type": "execute_result"
    }
   ],
   "source": [
    "listK.index(u_id)"
   ]
  },
  {
   "cell_type": "code",
   "execution_count": 121,
   "metadata": {
    "collapsed": false
   },
   "outputs": [
    {
     "data": {
      "text/plain": [
       "array([[  3.        ,   8.        ,   2.00026103,   2.        ],\n",
       "       [  2.        ,  10.        ,   3.75536032,   3.        ],\n",
       "       [  0.        ,   5.        ,   5.67509385,   2.        ],\n",
       "       [  9.        ,  11.        ,   6.59469791,   4.        ],\n",
       "       [  6.        ,  13.        ,   7.14090804,   5.        ],\n",
       "       [ 12.        ,  14.        ,   8.64240296,   7.        ]])"
      ]
     },
     "execution_count": 121,
     "metadata": {},
     "output_type": "execute_result"
    }
   ],
   "source": [
    "for i in range(len(Z)):\n",
    "    if Z[i][2] > 15:\n",
    "        Y = np.delete(Z, i, 0)\n",
    "Y"
   ]
  },
  {
   "cell_type": "code",
   "execution_count": 126,
   "metadata": {
    "collapsed": false
   },
   "outputs": [
    {
     "data": {
      "text/plain": [
       "numpy.ndarray"
      ]
     },
     "execution_count": 126,
     "metadata": {},
     "output_type": "execute_result"
    }
   ],
   "source": [
    "type(Y)"
   ]
  },
  {
   "cell_type": "markdown",
   "metadata": {},
   "source": [
    "------\n",
    "What to do next\n",
    "==================\n",
    "Write a function to get the cluster out from the above output(dendrogram or np array)\n",
    "and then find out all the users in each cluster to calculate the average feature vectors.\n",
    "Do the same thing for business_id one.\n",
    "for whichever business_id we recommend the one mathes with average feature vector by doing inner product of two vector.\n",
    "And then change some of the parameters like numbers of top categories to see what the result will be.\n"
   ]
  },
  {
   "cell_type": "code",
   "execution_count": null,
   "metadata": {
    "collapsed": true
   },
   "outputs": [],
   "source": []
  }
 ],
 "metadata": {
  "kernelspec": {
   "display_name": "Python 3",
   "language": "python",
   "name": "python3"
  },
  "language_info": {
   "codemirror_mode": {
    "name": "ipython",
    "version": 3
   },
   "file_extension": ".py",
   "mimetype": "text/x-python",
   "name": "python",
   "nbconvert_exporter": "python",
   "pygments_lexer": "ipython3",
   "version": "3.5.2"
  }
 },
 "nbformat": 4,
 "nbformat_minor": 2
}
