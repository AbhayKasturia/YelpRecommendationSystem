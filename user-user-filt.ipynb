{
 "cells": [
  {
   "cell_type": "code",
   "execution_count": 71,
   "metadata": {},
   "outputs": [],
   "source": [
    "import pandas as pd\n",
    "import numpy as np\n",
    "import math\n",
    "import matplotlib.pyplot as plt\n",
    "import scipy.sparse as sp\n",
    "import scipy.spatial.distance as dist\n",
    "%matplotlib inline\n",
    "import pylab\n",
    "import json\n",
    "import random\n",
    "from scipy.sparse.linalg import svds\n",
    "from sklearn.metrics import mean_squared_error as mse\n",
    "\n",
    "from datetime import datetime\n",
    "from sklearn.metrics.pairwise import cosine_similarity"
   ]
  },
  {
   "cell_type": "code",
   "execution_count": 3,
   "metadata": {},
   "outputs": [],
   "source": [
    "#df_users = pd.read_json('/media/gautam/DATA/desk_2104/CS Sem4/CS6220/Project/dataset/user.json', lines=True)"
   ]
  },
  {
   "cell_type": "code",
   "execution_count": 4,
   "metadata": {},
   "outputs": [],
   "source": [
    "#df_users.head()"
   ]
  },
  {
   "cell_type": "markdown",
   "metadata": {},
   "source": [
    "# Reading big file line by line, taking first 10000 reviews"
   ]
  },
  {
   "cell_type": "code",
   "execution_count": 34,
   "metadata": {},
   "outputs": [],
   "source": [
    "c=0\n",
    "s = open('/media/gautam/DATA/desk_2104/CS Sem4/CS6220/Project/dataset/review_sub.json','w',encoding='utf8')\n",
    "with open('/media/gautam/DATA/desk_2104/CS Sem4/CS6220/Project/dataset/review.json', encoding='utf8') as f:\n",
    "    for line in f:\n",
    "        c=c+1\n",
    "        s.write(line)\n",
    "        if(c == 10000):\n",
    "            break"
   ]
  },
  {
   "cell_type": "code",
   "execution_count": 35,
   "metadata": {},
   "outputs": [],
   "source": [
    "df_reviews = pd.read_json('/media/gautam/DATA/desk_2104/CS Sem4/CS6220/Project/dataset/review_sub.json', lines=True)"
   ]
  },
  {
   "cell_type": "code",
   "execution_count": 36,
   "metadata": {},
   "outputs": [
    {
     "data": {
      "text/html": [
       "<div>\n",
       "<style scoped>\n",
       "    .dataframe tbody tr th:only-of-type {\n",
       "        vertical-align: middle;\n",
       "    }\n",
       "\n",
       "    .dataframe tbody tr th {\n",
       "        vertical-align: top;\n",
       "    }\n",
       "\n",
       "    .dataframe thead th {\n",
       "        text-align: right;\n",
       "    }\n",
       "</style>\n",
       "<table border=\"1\" class=\"dataframe\">\n",
       "  <thead>\n",
       "    <tr style=\"text-align: right;\">\n",
       "      <th></th>\n",
       "      <th>business_id</th>\n",
       "      <th>cool</th>\n",
       "      <th>date</th>\n",
       "      <th>funny</th>\n",
       "      <th>review_id</th>\n",
       "      <th>stars</th>\n",
       "      <th>text</th>\n",
       "      <th>useful</th>\n",
       "      <th>user_id</th>\n",
       "    </tr>\n",
       "  </thead>\n",
       "  <tbody>\n",
       "    <tr>\n",
       "      <th>0</th>\n",
       "      <td>uYHaNptLzDLoV_JZ_MuzUA</td>\n",
       "      <td>0</td>\n",
       "      <td>2016-07-12</td>\n",
       "      <td>0</td>\n",
       "      <td>VfBHSwC5Vz_pbFluy07i9Q</td>\n",
       "      <td>5</td>\n",
       "      <td>My girlfriend and I stayed here for 3 nights a...</td>\n",
       "      <td>0</td>\n",
       "      <td>cjpdDjZyprfyDG3RlkVG3w</td>\n",
       "    </tr>\n",
       "    <tr>\n",
       "      <th>1</th>\n",
       "      <td>uYHaNptLzDLoV_JZ_MuzUA</td>\n",
       "      <td>0</td>\n",
       "      <td>2016-10-02</td>\n",
       "      <td>0</td>\n",
       "      <td>3zRpneRKDsOPq92tq7ybAA</td>\n",
       "      <td>3</td>\n",
       "      <td>If you need an inexpensive place to stay for a...</td>\n",
       "      <td>0</td>\n",
       "      <td>bjTcT8Ty4cJZhEOEo01FGA</td>\n",
       "    </tr>\n",
       "    <tr>\n",
       "      <th>2</th>\n",
       "      <td>uYHaNptLzDLoV_JZ_MuzUA</td>\n",
       "      <td>0</td>\n",
       "      <td>2015-09-17</td>\n",
       "      <td>0</td>\n",
       "      <td>ne5WhI1jUFOcRn-b-gAzHA</td>\n",
       "      <td>3</td>\n",
       "      <td>Mittlerweile gibt es in Edinburgh zwei Ableger...</td>\n",
       "      <td>0</td>\n",
       "      <td>AXgRULmWcME7J6Ix3I--ww</td>\n",
       "    </tr>\n",
       "    <tr>\n",
       "      <th>3</th>\n",
       "      <td>uYHaNptLzDLoV_JZ_MuzUA</td>\n",
       "      <td>0</td>\n",
       "      <td>2016-08-21</td>\n",
       "      <td>0</td>\n",
       "      <td>llmdwOgDReucVoWEry61Lw</td>\n",
       "      <td>4</td>\n",
       "      <td>Location is everything and this hotel has it! ...</td>\n",
       "      <td>0</td>\n",
       "      <td>oU2SSOmsp_A8JYI7Z2JJ5w</td>\n",
       "    </tr>\n",
       "    <tr>\n",
       "      <th>4</th>\n",
       "      <td>uYHaNptLzDLoV_JZ_MuzUA</td>\n",
       "      <td>0</td>\n",
       "      <td>2013-11-20</td>\n",
       "      <td>0</td>\n",
       "      <td>DuffS87NaSMDmIfluvT83g</td>\n",
       "      <td>5</td>\n",
       "      <td>gute lage im stadtzentrum. shoppingmeile und s...</td>\n",
       "      <td>0</td>\n",
       "      <td>0xtbPEna2Kei11vsU-U2Mw</td>\n",
       "    </tr>\n",
       "  </tbody>\n",
       "</table>\n",
       "</div>"
      ],
      "text/plain": [
       "              business_id  cool       date  funny               review_id  \\\n",
       "0  uYHaNptLzDLoV_JZ_MuzUA     0 2016-07-12      0  VfBHSwC5Vz_pbFluy07i9Q   \n",
       "1  uYHaNptLzDLoV_JZ_MuzUA     0 2016-10-02      0  3zRpneRKDsOPq92tq7ybAA   \n",
       "2  uYHaNptLzDLoV_JZ_MuzUA     0 2015-09-17      0  ne5WhI1jUFOcRn-b-gAzHA   \n",
       "3  uYHaNptLzDLoV_JZ_MuzUA     0 2016-08-21      0  llmdwOgDReucVoWEry61Lw   \n",
       "4  uYHaNptLzDLoV_JZ_MuzUA     0 2013-11-20      0  DuffS87NaSMDmIfluvT83g   \n",
       "\n",
       "   stars                                               text  useful  \\\n",
       "0      5  My girlfriend and I stayed here for 3 nights a...       0   \n",
       "1      3  If you need an inexpensive place to stay for a...       0   \n",
       "2      3  Mittlerweile gibt es in Edinburgh zwei Ableger...       0   \n",
       "3      4  Location is everything and this hotel has it! ...       0   \n",
       "4      5  gute lage im stadtzentrum. shoppingmeile und s...       0   \n",
       "\n",
       "                  user_id  \n",
       "0  cjpdDjZyprfyDG3RlkVG3w  \n",
       "1  bjTcT8Ty4cJZhEOEo01FGA  \n",
       "2  AXgRULmWcME7J6Ix3I--ww  \n",
       "3  oU2SSOmsp_A8JYI7Z2JJ5w  \n",
       "4  0xtbPEna2Kei11vsU-U2Mw  "
      ]
     },
     "execution_count": 36,
     "metadata": {},
     "output_type": "execute_result"
    }
   ],
   "source": [
    "df_reviews.head()"
   ]
  },
  {
   "cell_type": "markdown",
   "metadata": {},
   "source": [
    "# Read Business Data Set"
   ]
  },
  {
   "cell_type": "code",
   "execution_count": 37,
   "metadata": {},
   "outputs": [],
   "source": [
    "df_bus = pd.read_json('/media/gautam/DATA/desk_2104/CS Sem4/CS6220/Project/dataset/business.json', lines=True)"
   ]
  },
  {
   "cell_type": "markdown",
   "metadata": {},
   "source": [
    "# Merge Business and Review dataset"
   ]
  },
  {
   "cell_type": "code",
   "execution_count": 38,
   "metadata": {},
   "outputs": [],
   "source": [
    "res_mer = pd.merge(df_bus,df_reviews, on='business_id')"
   ]
  },
  {
   "cell_type": "code",
   "execution_count": 39,
   "metadata": {},
   "outputs": [
    {
     "data": {
      "text/html": [
       "<div>\n",
       "<style scoped>\n",
       "    .dataframe tbody tr th:only-of-type {\n",
       "        vertical-align: middle;\n",
       "    }\n",
       "\n",
       "    .dataframe tbody tr th {\n",
       "        vertical-align: top;\n",
       "    }\n",
       "\n",
       "    .dataframe thead th {\n",
       "        text-align: right;\n",
       "    }\n",
       "</style>\n",
       "<table border=\"1\" class=\"dataframe\">\n",
       "  <thead>\n",
       "    <tr style=\"text-align: right;\">\n",
       "      <th></th>\n",
       "      <th>address</th>\n",
       "      <th>attributes</th>\n",
       "      <th>business_id</th>\n",
       "      <th>categories</th>\n",
       "      <th>city</th>\n",
       "      <th>hours</th>\n",
       "      <th>is_open</th>\n",
       "      <th>latitude</th>\n",
       "      <th>longitude</th>\n",
       "      <th>name</th>\n",
       "      <th>...</th>\n",
       "      <th>stars_x</th>\n",
       "      <th>state</th>\n",
       "      <th>cool</th>\n",
       "      <th>date</th>\n",
       "      <th>funny</th>\n",
       "      <th>review_id</th>\n",
       "      <th>stars_y</th>\n",
       "      <th>text</th>\n",
       "      <th>useful</th>\n",
       "      <th>user_id</th>\n",
       "    </tr>\n",
       "  </thead>\n",
       "  <tbody>\n",
       "    <tr>\n",
       "      <th>0</th>\n",
       "      <td>350 E Steels Corners Rd</td>\n",
       "      <td>{'DogsAllowed': True, 'OutdoorSeating': True, ...</td>\n",
       "      <td>PjQngP_7m7PA8K1WUHdXqg</td>\n",
       "      <td>[Restaurants, American (New), Hot Dogs, Burgers]</td>\n",
       "      <td>Cuyahoga Falls</td>\n",
       "      <td>{'Friday': '11:00-22:00', 'Tuesday': '11:00-21...</td>\n",
       "      <td>1</td>\n",
       "      <td>41.180715</td>\n",
       "      <td>-81.494772</td>\n",
       "      <td>RETRO Dog</td>\n",
       "      <td>...</td>\n",
       "      <td>3.5</td>\n",
       "      <td>OH</td>\n",
       "      <td>0</td>\n",
       "      <td>2013-08-30</td>\n",
       "      <td>0</td>\n",
       "      <td>yopVrikncv_54eR44R9sHQ</td>\n",
       "      <td>4</td>\n",
       "      <td>Great variety and the best dog in town. Try th...</td>\n",
       "      <td>0</td>\n",
       "      <td>Q9nZLjnQ_0RiWfNjCRt9sQ</td>\n",
       "    </tr>\n",
       "    <tr>\n",
       "      <th>1</th>\n",
       "      <td>350 E Steels Corners Rd</td>\n",
       "      <td>{'DogsAllowed': True, 'OutdoorSeating': True, ...</td>\n",
       "      <td>PjQngP_7m7PA8K1WUHdXqg</td>\n",
       "      <td>[Restaurants, American (New), Hot Dogs, Burgers]</td>\n",
       "      <td>Cuyahoga Falls</td>\n",
       "      <td>{'Friday': '11:00-22:00', 'Tuesday': '11:00-21...</td>\n",
       "      <td>1</td>\n",
       "      <td>41.180715</td>\n",
       "      <td>-81.494772</td>\n",
       "      <td>RETRO Dog</td>\n",
       "      <td>...</td>\n",
       "      <td>3.5</td>\n",
       "      <td>OH</td>\n",
       "      <td>0</td>\n",
       "      <td>2013-12-09</td>\n",
       "      <td>0</td>\n",
       "      <td>fQn5gA-jXYHefi2Kxx9rcg</td>\n",
       "      <td>1</td>\n",
       "      <td>This was my first visit and I was definitely N...</td>\n",
       "      <td>1</td>\n",
       "      <td>9Vu2eIk0HXGAD2h1Vr81RA</td>\n",
       "    </tr>\n",
       "    <tr>\n",
       "      <th>2</th>\n",
       "      <td>350 E Steels Corners Rd</td>\n",
       "      <td>{'DogsAllowed': True, 'OutdoorSeating': True, ...</td>\n",
       "      <td>PjQngP_7m7PA8K1WUHdXqg</td>\n",
       "      <td>[Restaurants, American (New), Hot Dogs, Burgers]</td>\n",
       "      <td>Cuyahoga Falls</td>\n",
       "      <td>{'Friday': '11:00-22:00', 'Tuesday': '11:00-21...</td>\n",
       "      <td>1</td>\n",
       "      <td>41.180715</td>\n",
       "      <td>-81.494772</td>\n",
       "      <td>RETRO Dog</td>\n",
       "      <td>...</td>\n",
       "      <td>3.5</td>\n",
       "      <td>OH</td>\n",
       "      <td>3</td>\n",
       "      <td>2012-06-19</td>\n",
       "      <td>3</td>\n",
       "      <td>HzreYQD3_VOa-MvleCQhEw</td>\n",
       "      <td>4</td>\n",
       "      <td>Went to their grand opening on the June 17th a...</td>\n",
       "      <td>6</td>\n",
       "      <td>MBf09zdFcOEnYA84aENzXA</td>\n",
       "    </tr>\n",
       "    <tr>\n",
       "      <th>3</th>\n",
       "      <td>350 E Steels Corners Rd</td>\n",
       "      <td>{'DogsAllowed': True, 'OutdoorSeating': True, ...</td>\n",
       "      <td>PjQngP_7m7PA8K1WUHdXqg</td>\n",
       "      <td>[Restaurants, American (New), Hot Dogs, Burgers]</td>\n",
       "      <td>Cuyahoga Falls</td>\n",
       "      <td>{'Friday': '11:00-22:00', 'Tuesday': '11:00-21...</td>\n",
       "      <td>1</td>\n",
       "      <td>41.180715</td>\n",
       "      <td>-81.494772</td>\n",
       "      <td>RETRO Dog</td>\n",
       "      <td>...</td>\n",
       "      <td>3.5</td>\n",
       "      <td>OH</td>\n",
       "      <td>0</td>\n",
       "      <td>2015-10-27</td>\n",
       "      <td>0</td>\n",
       "      <td>E73McNvR0dT-l-7mlsh_7A</td>\n",
       "      <td>3</td>\n",
       "      <td>Good food. Way over priced as everything is ex...</td>\n",
       "      <td>2</td>\n",
       "      <td>cA7hAhlsXIotA4wRLdAZBQ</td>\n",
       "    </tr>\n",
       "    <tr>\n",
       "      <th>4</th>\n",
       "      <td>350 E Steels Corners Rd</td>\n",
       "      <td>{'DogsAllowed': True, 'OutdoorSeating': True, ...</td>\n",
       "      <td>PjQngP_7m7PA8K1WUHdXqg</td>\n",
       "      <td>[Restaurants, American (New), Hot Dogs, Burgers]</td>\n",
       "      <td>Cuyahoga Falls</td>\n",
       "      <td>{'Friday': '11:00-22:00', 'Tuesday': '11:00-21...</td>\n",
       "      <td>1</td>\n",
       "      <td>41.180715</td>\n",
       "      <td>-81.494772</td>\n",
       "      <td>RETRO Dog</td>\n",
       "      <td>...</td>\n",
       "      <td>3.5</td>\n",
       "      <td>OH</td>\n",
       "      <td>0</td>\n",
       "      <td>2015-11-18</td>\n",
       "      <td>0</td>\n",
       "      <td>6D0JvHSBurLYbC_o_drcJA</td>\n",
       "      <td>4</td>\n",
       "      <td>This is my regular lunch stop when I am in Sto...</td>\n",
       "      <td>0</td>\n",
       "      <td>UCnk2nOq6cvtjboMWkhO9A</td>\n",
       "    </tr>\n",
       "  </tbody>\n",
       "</table>\n",
       "<p>5 rows × 23 columns</p>\n",
       "</div>"
      ],
      "text/plain": [
       "                   address                                         attributes  \\\n",
       "0  350 E Steels Corners Rd  {'DogsAllowed': True, 'OutdoorSeating': True, ...   \n",
       "1  350 E Steels Corners Rd  {'DogsAllowed': True, 'OutdoorSeating': True, ...   \n",
       "2  350 E Steels Corners Rd  {'DogsAllowed': True, 'OutdoorSeating': True, ...   \n",
       "3  350 E Steels Corners Rd  {'DogsAllowed': True, 'OutdoorSeating': True, ...   \n",
       "4  350 E Steels Corners Rd  {'DogsAllowed': True, 'OutdoorSeating': True, ...   \n",
       "\n",
       "              business_id                                        categories  \\\n",
       "0  PjQngP_7m7PA8K1WUHdXqg  [Restaurants, American (New), Hot Dogs, Burgers]   \n",
       "1  PjQngP_7m7PA8K1WUHdXqg  [Restaurants, American (New), Hot Dogs, Burgers]   \n",
       "2  PjQngP_7m7PA8K1WUHdXqg  [Restaurants, American (New), Hot Dogs, Burgers]   \n",
       "3  PjQngP_7m7PA8K1WUHdXqg  [Restaurants, American (New), Hot Dogs, Burgers]   \n",
       "4  PjQngP_7m7PA8K1WUHdXqg  [Restaurants, American (New), Hot Dogs, Burgers]   \n",
       "\n",
       "             city                                              hours  is_open  \\\n",
       "0  Cuyahoga Falls  {'Friday': '11:00-22:00', 'Tuesday': '11:00-21...        1   \n",
       "1  Cuyahoga Falls  {'Friday': '11:00-22:00', 'Tuesday': '11:00-21...        1   \n",
       "2  Cuyahoga Falls  {'Friday': '11:00-22:00', 'Tuesday': '11:00-21...        1   \n",
       "3  Cuyahoga Falls  {'Friday': '11:00-22:00', 'Tuesday': '11:00-21...        1   \n",
       "4  Cuyahoga Falls  {'Friday': '11:00-22:00', 'Tuesday': '11:00-21...        1   \n",
       "\n",
       "    latitude  longitude       name           ...           stars_x state  \\\n",
       "0  41.180715 -81.494772  RETRO Dog           ...               3.5    OH   \n",
       "1  41.180715 -81.494772  RETRO Dog           ...               3.5    OH   \n",
       "2  41.180715 -81.494772  RETRO Dog           ...               3.5    OH   \n",
       "3  41.180715 -81.494772  RETRO Dog           ...               3.5    OH   \n",
       "4  41.180715 -81.494772  RETRO Dog           ...               3.5    OH   \n",
       "\n",
       "   cool       date funny               review_id stars_y  \\\n",
       "0     0 2013-08-30     0  yopVrikncv_54eR44R9sHQ       4   \n",
       "1     0 2013-12-09     0  fQn5gA-jXYHefi2Kxx9rcg       1   \n",
       "2     3 2012-06-19     3  HzreYQD3_VOa-MvleCQhEw       4   \n",
       "3     0 2015-10-27     0  E73McNvR0dT-l-7mlsh_7A       3   \n",
       "4     0 2015-11-18     0  6D0JvHSBurLYbC_o_drcJA       4   \n",
       "\n",
       "                                                text useful  \\\n",
       "0  Great variety and the best dog in town. Try th...      0   \n",
       "1  This was my first visit and I was definitely N...      1   \n",
       "2  Went to their grand opening on the June 17th a...      6   \n",
       "3  Good food. Way over priced as everything is ex...      2   \n",
       "4  This is my regular lunch stop when I am in Sto...      0   \n",
       "\n",
       "                  user_id  \n",
       "0  Q9nZLjnQ_0RiWfNjCRt9sQ  \n",
       "1  9Vu2eIk0HXGAD2h1Vr81RA  \n",
       "2  MBf09zdFcOEnYA84aENzXA  \n",
       "3  cA7hAhlsXIotA4wRLdAZBQ  \n",
       "4  UCnk2nOq6cvtjboMWkhO9A  \n",
       "\n",
       "[5 rows x 23 columns]"
      ]
     },
     "execution_count": 39,
     "metadata": {},
     "output_type": "execute_result"
    }
   ],
   "source": [
    "res_mer.head()"
   ]
  },
  {
   "cell_type": "markdown",
   "metadata": {},
   "source": [
    "# Utility Matrix Creation"
   ]
  },
  {
   "cell_type": "code",
   "execution_count": 40,
   "metadata": {},
   "outputs": [
    {
     "data": {
      "text/html": [
       "<div>\n",
       "<style scoped>\n",
       "    .dataframe tbody tr th:only-of-type {\n",
       "        vertical-align: middle;\n",
       "    }\n",
       "\n",
       "    .dataframe tbody tr th {\n",
       "        vertical-align: top;\n",
       "    }\n",
       "\n",
       "    .dataframe thead th {\n",
       "        text-align: right;\n",
       "    }\n",
       "</style>\n",
       "<table border=\"1\" class=\"dataframe\">\n",
       "  <thead>\n",
       "    <tr style=\"text-align: right;\">\n",
       "      <th>business_id</th>\n",
       "      <th>-MhfebM0QIsKt87iDN-FNw</th>\n",
       "      <th>-cYOKJ5kbVZqzSYQIzZcqA</th>\n",
       "      <th>-iC6giVhI7vY6W_dnw08YA</th>\n",
       "      <th>-pV9kWNoA9vyHfM_auYecA</th>\n",
       "      <th>03SYJLErY8XpNfY-qiDZcw</th>\n",
       "      <th>0nyM_mub7LxN6Dx7tYpMaA</th>\n",
       "      <th>1pXyaPUXMqZyxW1Ew7BLUg</th>\n",
       "      <th>2L4rNP5kjRXCxxspYPRTdA</th>\n",
       "      <th>2UmvDC88Wj3eKOBLFTh86w</th>\n",
       "      <th>2Z2QuLYY0FvUeJ75ane-Zw</th>\n",
       "      <th>...</th>\n",
       "      <th>wzuhuTptNFTi4MZkrCItBA</th>\n",
       "      <th>xOx-N9G7AteZTnZfVFfNHA</th>\n",
       "      <th>xjViuMrrApPM6Rnz8ovOVw</th>\n",
       "      <th>xpW7Qp8JpYys0IGG0ENZaw</th>\n",
       "      <th>y7yo-LAjJnNoYwWX6ZYbqA</th>\n",
       "      <th>yRk8ezAFV59HDHsuHiiU6Q</th>\n",
       "      <th>ykSlMTRgyWzAmhP7ywc9gg</th>\n",
       "      <th>ypuo8mzg0uCxl24K08rIig</th>\n",
       "      <th>zoq5SERVEDBd7MaKPjlLJA</th>\n",
       "      <th>zw4Legbcu018p5WcZ74iWA</th>\n",
       "    </tr>\n",
       "    <tr>\n",
       "      <th>user_id</th>\n",
       "      <th></th>\n",
       "      <th></th>\n",
       "      <th></th>\n",
       "      <th></th>\n",
       "      <th></th>\n",
       "      <th></th>\n",
       "      <th></th>\n",
       "      <th></th>\n",
       "      <th></th>\n",
       "      <th></th>\n",
       "      <th></th>\n",
       "      <th></th>\n",
       "      <th></th>\n",
       "      <th></th>\n",
       "      <th></th>\n",
       "      <th></th>\n",
       "      <th></th>\n",
       "      <th></th>\n",
       "      <th></th>\n",
       "      <th></th>\n",
       "      <th></th>\n",
       "    </tr>\n",
       "  </thead>\n",
       "  <tbody>\n",
       "    <tr>\n",
       "      <th>---1lKK3aKOuomHnwAkAow</th>\n",
       "      <td>NaN</td>\n",
       "      <td>NaN</td>\n",
       "      <td>NaN</td>\n",
       "      <td>NaN</td>\n",
       "      <td>NaN</td>\n",
       "      <td>NaN</td>\n",
       "      <td>NaN</td>\n",
       "      <td>NaN</td>\n",
       "      <td>NaN</td>\n",
       "      <td>NaN</td>\n",
       "      <td>...</td>\n",
       "      <td>NaN</td>\n",
       "      <td>NaN</td>\n",
       "      <td>NaN</td>\n",
       "      <td>NaN</td>\n",
       "      <td>NaN</td>\n",
       "      <td>NaN</td>\n",
       "      <td>NaN</td>\n",
       "      <td>NaN</td>\n",
       "      <td>NaN</td>\n",
       "      <td>NaN</td>\n",
       "    </tr>\n",
       "    <tr>\n",
       "      <th>--Nnm_506G_p8MxAOQna5w</th>\n",
       "      <td>NaN</td>\n",
       "      <td>NaN</td>\n",
       "      <td>NaN</td>\n",
       "      <td>NaN</td>\n",
       "      <td>NaN</td>\n",
       "      <td>NaN</td>\n",
       "      <td>NaN</td>\n",
       "      <td>NaN</td>\n",
       "      <td>NaN</td>\n",
       "      <td>NaN</td>\n",
       "      <td>...</td>\n",
       "      <td>NaN</td>\n",
       "      <td>NaN</td>\n",
       "      <td>NaN</td>\n",
       "      <td>NaN</td>\n",
       "      <td>NaN</td>\n",
       "      <td>NaN</td>\n",
       "      <td>NaN</td>\n",
       "      <td>NaN</td>\n",
       "      <td>NaN</td>\n",
       "      <td>NaN</td>\n",
       "    </tr>\n",
       "    <tr>\n",
       "      <th>--P-Qvza7AED8gnDrZkMgA</th>\n",
       "      <td>NaN</td>\n",
       "      <td>NaN</td>\n",
       "      <td>NaN</td>\n",
       "      <td>NaN</td>\n",
       "      <td>NaN</td>\n",
       "      <td>NaN</td>\n",
       "      <td>NaN</td>\n",
       "      <td>NaN</td>\n",
       "      <td>NaN</td>\n",
       "      <td>NaN</td>\n",
       "      <td>...</td>\n",
       "      <td>NaN</td>\n",
       "      <td>NaN</td>\n",
       "      <td>NaN</td>\n",
       "      <td>NaN</td>\n",
       "      <td>NaN</td>\n",
       "      <td>NaN</td>\n",
       "      <td>NaN</td>\n",
       "      <td>NaN</td>\n",
       "      <td>NaN</td>\n",
       "      <td>NaN</td>\n",
       "    </tr>\n",
       "    <tr>\n",
       "      <th>--ZNfWKj1VyVElRx6-g1fg</th>\n",
       "      <td>NaN</td>\n",
       "      <td>NaN</td>\n",
       "      <td>NaN</td>\n",
       "      <td>NaN</td>\n",
       "      <td>NaN</td>\n",
       "      <td>NaN</td>\n",
       "      <td>NaN</td>\n",
       "      <td>NaN</td>\n",
       "      <td>NaN</td>\n",
       "      <td>NaN</td>\n",
       "      <td>...</td>\n",
       "      <td>NaN</td>\n",
       "      <td>NaN</td>\n",
       "      <td>NaN</td>\n",
       "      <td>NaN</td>\n",
       "      <td>NaN</td>\n",
       "      <td>NaN</td>\n",
       "      <td>NaN</td>\n",
       "      <td>NaN</td>\n",
       "      <td>NaN</td>\n",
       "      <td>NaN</td>\n",
       "    </tr>\n",
       "    <tr>\n",
       "      <th>-00MbjbaOISrcuV7jOVRIg</th>\n",
       "      <td>NaN</td>\n",
       "      <td>NaN</td>\n",
       "      <td>NaN</td>\n",
       "      <td>NaN</td>\n",
       "      <td>NaN</td>\n",
       "      <td>NaN</td>\n",
       "      <td>NaN</td>\n",
       "      <td>NaN</td>\n",
       "      <td>NaN</td>\n",
       "      <td>NaN</td>\n",
       "      <td>...</td>\n",
       "      <td>NaN</td>\n",
       "      <td>NaN</td>\n",
       "      <td>NaN</td>\n",
       "      <td>NaN</td>\n",
       "      <td>NaN</td>\n",
       "      <td>NaN</td>\n",
       "      <td>NaN</td>\n",
       "      <td>NaN</td>\n",
       "      <td>NaN</td>\n",
       "      <td>NaN</td>\n",
       "    </tr>\n",
       "  </tbody>\n",
       "</table>\n",
       "<p>5 rows × 227 columns</p>\n",
       "</div>"
      ],
      "text/plain": [
       "business_id             -MhfebM0QIsKt87iDN-FNw  -cYOKJ5kbVZqzSYQIzZcqA  \\\n",
       "user_id                                                                  \n",
       "---1lKK3aKOuomHnwAkAow                     NaN                     NaN   \n",
       "--Nnm_506G_p8MxAOQna5w                     NaN                     NaN   \n",
       "--P-Qvza7AED8gnDrZkMgA                     NaN                     NaN   \n",
       "--ZNfWKj1VyVElRx6-g1fg                     NaN                     NaN   \n",
       "-00MbjbaOISrcuV7jOVRIg                     NaN                     NaN   \n",
       "\n",
       "business_id             -iC6giVhI7vY6W_dnw08YA  -pV9kWNoA9vyHfM_auYecA  \\\n",
       "user_id                                                                  \n",
       "---1lKK3aKOuomHnwAkAow                     NaN                     NaN   \n",
       "--Nnm_506G_p8MxAOQna5w                     NaN                     NaN   \n",
       "--P-Qvza7AED8gnDrZkMgA                     NaN                     NaN   \n",
       "--ZNfWKj1VyVElRx6-g1fg                     NaN                     NaN   \n",
       "-00MbjbaOISrcuV7jOVRIg                     NaN                     NaN   \n",
       "\n",
       "business_id             03SYJLErY8XpNfY-qiDZcw  0nyM_mub7LxN6Dx7tYpMaA  \\\n",
       "user_id                                                                  \n",
       "---1lKK3aKOuomHnwAkAow                     NaN                     NaN   \n",
       "--Nnm_506G_p8MxAOQna5w                     NaN                     NaN   \n",
       "--P-Qvza7AED8gnDrZkMgA                     NaN                     NaN   \n",
       "--ZNfWKj1VyVElRx6-g1fg                     NaN                     NaN   \n",
       "-00MbjbaOISrcuV7jOVRIg                     NaN                     NaN   \n",
       "\n",
       "business_id             1pXyaPUXMqZyxW1Ew7BLUg  2L4rNP5kjRXCxxspYPRTdA  \\\n",
       "user_id                                                                  \n",
       "---1lKK3aKOuomHnwAkAow                     NaN                     NaN   \n",
       "--Nnm_506G_p8MxAOQna5w                     NaN                     NaN   \n",
       "--P-Qvza7AED8gnDrZkMgA                     NaN                     NaN   \n",
       "--ZNfWKj1VyVElRx6-g1fg                     NaN                     NaN   \n",
       "-00MbjbaOISrcuV7jOVRIg                     NaN                     NaN   \n",
       "\n",
       "business_id             2UmvDC88Wj3eKOBLFTh86w  2Z2QuLYY0FvUeJ75ane-Zw  \\\n",
       "user_id                                                                  \n",
       "---1lKK3aKOuomHnwAkAow                     NaN                     NaN   \n",
       "--Nnm_506G_p8MxAOQna5w                     NaN                     NaN   \n",
       "--P-Qvza7AED8gnDrZkMgA                     NaN                     NaN   \n",
       "--ZNfWKj1VyVElRx6-g1fg                     NaN                     NaN   \n",
       "-00MbjbaOISrcuV7jOVRIg                     NaN                     NaN   \n",
       "\n",
       "business_id                      ...            wzuhuTptNFTi4MZkrCItBA  \\\n",
       "user_id                          ...                                     \n",
       "---1lKK3aKOuomHnwAkAow           ...                               NaN   \n",
       "--Nnm_506G_p8MxAOQna5w           ...                               NaN   \n",
       "--P-Qvza7AED8gnDrZkMgA           ...                               NaN   \n",
       "--ZNfWKj1VyVElRx6-g1fg           ...                               NaN   \n",
       "-00MbjbaOISrcuV7jOVRIg           ...                               NaN   \n",
       "\n",
       "business_id             xOx-N9G7AteZTnZfVFfNHA  xjViuMrrApPM6Rnz8ovOVw  \\\n",
       "user_id                                                                  \n",
       "---1lKK3aKOuomHnwAkAow                     NaN                     NaN   \n",
       "--Nnm_506G_p8MxAOQna5w                     NaN                     NaN   \n",
       "--P-Qvza7AED8gnDrZkMgA                     NaN                     NaN   \n",
       "--ZNfWKj1VyVElRx6-g1fg                     NaN                     NaN   \n",
       "-00MbjbaOISrcuV7jOVRIg                     NaN                     NaN   \n",
       "\n",
       "business_id             xpW7Qp8JpYys0IGG0ENZaw  y7yo-LAjJnNoYwWX6ZYbqA  \\\n",
       "user_id                                                                  \n",
       "---1lKK3aKOuomHnwAkAow                     NaN                     NaN   \n",
       "--Nnm_506G_p8MxAOQna5w                     NaN                     NaN   \n",
       "--P-Qvza7AED8gnDrZkMgA                     NaN                     NaN   \n",
       "--ZNfWKj1VyVElRx6-g1fg                     NaN                     NaN   \n",
       "-00MbjbaOISrcuV7jOVRIg                     NaN                     NaN   \n",
       "\n",
       "business_id             yRk8ezAFV59HDHsuHiiU6Q  ykSlMTRgyWzAmhP7ywc9gg  \\\n",
       "user_id                                                                  \n",
       "---1lKK3aKOuomHnwAkAow                     NaN                     NaN   \n",
       "--Nnm_506G_p8MxAOQna5w                     NaN                     NaN   \n",
       "--P-Qvza7AED8gnDrZkMgA                     NaN                     NaN   \n",
       "--ZNfWKj1VyVElRx6-g1fg                     NaN                     NaN   \n",
       "-00MbjbaOISrcuV7jOVRIg                     NaN                     NaN   \n",
       "\n",
       "business_id             ypuo8mzg0uCxl24K08rIig  zoq5SERVEDBd7MaKPjlLJA  \\\n",
       "user_id                                                                  \n",
       "---1lKK3aKOuomHnwAkAow                     NaN                     NaN   \n",
       "--Nnm_506G_p8MxAOQna5w                     NaN                     NaN   \n",
       "--P-Qvza7AED8gnDrZkMgA                     NaN                     NaN   \n",
       "--ZNfWKj1VyVElRx6-g1fg                     NaN                     NaN   \n",
       "-00MbjbaOISrcuV7jOVRIg                     NaN                     NaN   \n",
       "\n",
       "business_id             zw4Legbcu018p5WcZ74iWA  \n",
       "user_id                                         \n",
       "---1lKK3aKOuomHnwAkAow                     NaN  \n",
       "--Nnm_506G_p8MxAOQna5w                     NaN  \n",
       "--P-Qvza7AED8gnDrZkMgA                     NaN  \n",
       "--ZNfWKj1VyVElRx6-g1fg                     NaN  \n",
       "-00MbjbaOISrcuV7jOVRIg                     NaN  \n",
       "\n",
       "[5 rows x 227 columns]"
      ]
     },
     "execution_count": 40,
     "metadata": {},
     "output_type": "execute_result"
    }
   ],
   "source": [
    "df = res_mer.pivot(index = 'user_id', columns ='business_id', values='stars_y')\n",
    "df.head()"
   ]
  },
  {
   "cell_type": "code",
   "execution_count": 41,
   "metadata": {},
   "outputs": [],
   "source": [
    "items=df.columns.values"
   ]
  },
  {
   "cell_type": "code",
   "execution_count": 42,
   "metadata": {},
   "outputs": [],
   "source": [
    "mat = df.as_matrix().astype(np.float)"
   ]
  },
  {
   "cell_type": "markdown",
   "metadata": {},
   "source": [
    "# Centralizing each row vector to mean zero"
   ]
  },
  {
   "cell_type": "code",
   "execution_count": 43,
   "metadata": {},
   "outputs": [],
   "source": [
    "sum =0.0\n",
    "count =0\n",
    "for i in range(len(mat)):\n",
    "    sum = 0.0\n",
    "    count =0\n",
    "    for j in range(len(mat[0])):\n",
    "        if(math.isnan(mat[i][j])):\n",
    "            continue\n",
    "        sum += mat[i][j]\n",
    "        count += 1\n",
    "    avg = sum/count\n",
    "    for j in range(len(mat[0])):\n",
    "        if(math.isnan(mat[i][j])):\n",
    "            continue\n",
    "        mat[i][j] -= avg"
   ]
  },
  {
   "cell_type": "code",
   "execution_count": 44,
   "metadata": {},
   "outputs": [],
   "source": [
    "# Replace NaN values with zero in matrix\n",
    "ind = np.where(np.isnan(mat))\n",
    "mat[ind] = 0"
   ]
  },
  {
   "cell_type": "code",
   "execution_count": 45,
   "metadata": {},
   "outputs": [
    {
     "data": {
      "text/plain": [
       "array([[ 0.,  0.,  0., ...,  0.,  0.,  0.],\n",
       "       [ 0.,  0.,  0., ...,  0.,  0.,  0.],\n",
       "       [ 0.,  0.,  0., ...,  0.,  0.,  0.],\n",
       "       ..., \n",
       "       [ 0.,  0.,  0., ...,  0.,  0.,  0.],\n",
       "       [ 0.,  0.,  0., ...,  0.,  0.,  0.],\n",
       "       [ 0.,  0.,  0., ...,  0.,  0.,  0.]])"
      ]
     },
     "execution_count": 45,
     "metadata": {},
     "output_type": "execute_result"
    }
   ],
   "source": [
    "mat"
   ]
  },
  {
   "cell_type": "code",
   "execution_count": 68,
   "metadata": {},
   "outputs": [
    {
     "name": "stdout",
     "output_type": "stream",
     "text": [
      "Number of users: 9585\n",
      "Number of items: 227\n"
     ]
    }
   ],
   "source": [
    "print(\"Number of users:\", len(mat))\n",
    "print(\"Number of items:\", len(mat[0]))"
   ]
  },
  {
   "cell_type": "markdown",
   "metadata": {},
   "source": [
    "# Similarity Matrix"
   ]
  },
  {
   "cell_type": "code",
   "execution_count": 47,
   "metadata": {},
   "outputs": [],
   "source": [
    "def sim_matrix(u, eps=1.0e-9):\n",
    "    step1 = u.dot(u.T) + eps\n",
    "    step2 = np.array([np.sqrt(np.diagonal(step1))])\n",
    "    return (step1 / step2 / step2.T)"
   ]
  },
  {
   "cell_type": "markdown",
   "metadata": {},
   "source": [
    "# Top K Similar Items"
   ]
  },
  {
   "cell_type": "code",
   "execution_count": 48,
   "metadata": {},
   "outputs": [],
   "source": [
    "def top_k(arr, self_idx, k):\n",
    "    sortedArr=arr.argsort()[::-1][:len(arr)]\n",
    "    sortedArr=sortedArr[1:k+1]\n",
    "    tk={}\n",
    "    for i in sortedArr:\n",
    "        if i != self_idx:\n",
    "            tk[i]=arr[i]\n",
    "    return tk"
   ]
  },
  {
   "cell_type": "markdown",
   "metadata": {},
   "source": [
    "# Recommendation via Similar Users"
   ]
  },
  {
   "cell_type": "code",
   "execution_count": 49,
   "metadata": {},
   "outputs": [],
   "source": [
    "def rec_via_users(m_utility, m_sim_users, user_idx, item_idx, k):\n",
    "    dict_s = top_k(m_sim_users[user_idx], user_idx, k)\n",
    "    s = 0.00\n",
    "    c = 0.00\n",
    "    for k,v in dict_s.items():\n",
    "        if m_utility[k][item_idx] == 0:\n",
    "            continue\n",
    "        s += (m_utility[k][item_idx] * v)\n",
    "        c += v\n",
    "    if c == 0:\n",
    "        return 0\n",
    "    return s/c"
   ]
  },
  {
   "cell_type": "code",
   "execution_count": 50,
   "metadata": {
    "scrolled": true
   },
   "outputs": [
    {
     "name": "stdout",
     "output_type": "stream",
     "text": [
      "3939\n"
     ]
    }
   ],
   "source": [
    "# Finding user-index with atleast 5 ratings for items\n",
    "i = 0\n",
    "for i in range(len(mat)):\n",
    "    c = 0\n",
    "    for j in range(len(mat[0])):\n",
    "        if mat[i][j] > 0:\n",
    "            c = c+1\n",
    "    if c >4:\n",
    "        break\n",
    "print(i)"
   ]
  },
  {
   "cell_type": "code",
   "execution_count": 58,
   "metadata": {},
   "outputs": [
    {
     "name": "stdout",
     "output_type": "stream",
     "text": [
      "0\n"
     ]
    }
   ],
   "source": [
    "#u1 = np.array([[2, 0, 0, 4, 4], [5, 5, 5, 3, 3], [2, 4, 2, 1, 2]])\n",
    "#Expected Rating of item number 4 for user number 3939\n",
    "print(rec_via_users(mat, sim_matrix(mat), 3939, 4, 10))"
   ]
  },
  {
   "cell_type": "markdown",
   "metadata": {},
   "source": [
    "# SVD Recommendation"
   ]
  },
  {
   "cell_type": "code",
   "execution_count": 74,
   "metadata": {},
   "outputs": [
    {
     "name": "stdout",
     "output_type": "stream",
     "text": [
      "0.160562208905\n"
     ]
    }
   ],
   "source": [
    "random.seed(12345)\n",
    "\n",
    "def mse_utility(u1, u2):\n",
    "    return mse(u1[u1.nonzero()].flatten(), u2[u2.nonzero()].flatten())\n",
    "\n",
    "def svd_projection(m_utility, num_dims):\n",
    "    U,S,VT = svds(m_utility, num_dims)\n",
    "    SD = np.diag(S)\n",
    "    return np.dot(np.dot(U,SD),VT)\n",
    "\n",
    "def recs_via_svd(m_utility, num_dims, test_n):\n",
    "    test = random.sample(range(m_utility.shape[0]), test_n)    \n",
    "    svd_utility = svd_projection(m_utility, num_dims)\n",
    "    \n",
    "    true = []\n",
    "    pred = []\n",
    "    for user_idx in test:\n",
    "        for item_idx in range(m_utility.shape[1]):\n",
    "            if m_utility[user_idx][item_idx] != 0:\n",
    "                true.append(m_utility[user_idx][item_idx])\n",
    "                p = round(svd_utility[user_idx][item_idx])\n",
    "                \n",
    "                if p != 0:\n",
    "                    pred.append(p)\n",
    "                else:\n",
    "                    pred.append(1.0e-9)\n",
    "\n",
    "    return mse_utility(np.array([true], dtype=np.float64), np.array([pred], dtype=np.float64))\n",
    "\n",
    "\n",
    "\n",
    "# Mean Square Error for rating prediction by SVD\n",
    "print(recs_via_svd(mat, 200, 9500))"
   ]
  },
  {
   "cell_type": "markdown",
   "metadata": {},
   "source": [
    "# End of SVD #"
   ]
  },
  {
   "cell_type": "code",
   "execution_count": 34,
   "metadata": {},
   "outputs": [],
   "source": [
    "# List of indices of similar users\n",
    "similar_users = []\n",
    "similarity = []\n",
    "def cosine_similarity(user):\n",
    "    for i in range(len(mat)):\n",
    "        cs = 1 - dist.cosine(mat[i],user)\n",
    "        if cs > 0:\n",
    "            similarity.append(cs)\n",
    "            similar_users.append(i)"
   ]
  },
  {
   "cell_type": "code",
   "execution_count": 35,
   "metadata": {},
   "outputs": [
    {
     "name": "stderr",
     "output_type": "stream",
     "text": [
      "/home/gautam/.local/lib/python3.5/site-packages/scipy/spatial/distance.py:644: RuntimeWarning: invalid value encountered in double_scalars\n",
      "  dist = 1.0 - uv / np.sqrt(uu * vv)\n"
     ]
    }
   ],
   "source": [
    "#calling method\n",
    "#Let new user be mat[320]\n",
    "cosine_similarity(mat[320])"
   ]
  },
  {
   "cell_type": "code",
   "execution_count": 27,
   "metadata": {},
   "outputs": [
    {
     "data": {
      "text/plain": [
       "200"
      ]
     },
     "execution_count": 27,
     "metadata": {},
     "output_type": "execute_result"
    }
   ],
   "source": [
    "len(similar_users)"
   ]
  },
  {
   "cell_type": "code",
   "execution_count": 47,
   "metadata": {},
   "outputs": [],
   "source": [
    "##Item Rating prediction for user\n",
    "###INCORRECT - need to check the formula\n",
    "item_ratings = np.zeros((len(mat[0])))\n",
    "for i in range(len(similar_users)):\n",
    "    u = mat[similar_users[i]]\n",
    "    for j in range(len(u)):\n",
    "        if(math.isnan(u[j])):\n",
    "            continue\n",
    "        else:\n",
    "            item_ratings[j] += similarity[i] * u[j]"
   ]
  },
  {
   "cell_type": "code",
   "execution_count": 49,
   "metadata": {},
   "outputs": [
    {
     "name": "stdout",
     "output_type": "stream",
     "text": [
      "count is: 131\n"
     ]
    }
   ],
   "source": [
    "##Items recommended to user based on rating prediction\n",
    "c = 0\n",
    "for i in range(len(item_ratings)):\n",
    "    if item_ratings[i]>0:\n",
    "        c = c +1\n",
    "print(\"count is:\", c)"
   ]
  },
  {
   "cell_type": "code",
   "execution_count": 50,
   "metadata": {},
   "outputs": [],
   "source": [
    "###Item Recommendation to users based on similar_users####\n",
    "ind = similar_users[1]\n",
    "recommend_items_indices = []\n",
    "\n",
    "for i in range(len(similar_users)):\n",
    "    for k,v in enumerate(mat[similar_users[i]]):\n",
    "        if v>0:\n",
    "            recommend_items_indices.append(k)\n",
    "\n",
    "##Removing indices which are already used by user\n",
    "for k,v in enumerate(mat[320]):\n",
    "    if v > 0:\n",
    "        recommend_items_indices.remove(k)\n",
    "            \n",
    "#Recommended items is\n",
    "recommended_items = []\n",
    "\n",
    "for i in range(len(recommend_items_indices)):\n",
    "    recommended_items.append(items[recommend_items_indices[i]])\n"
   ]
  },
  {
   "cell_type": "code",
   "execution_count": 51,
   "metadata": {},
   "outputs": [
    {
     "data": {
      "text/plain": [
       "531"
      ]
     },
     "execution_count": 51,
     "metadata": {},
     "output_type": "execute_result"
    }
   ],
   "source": [
    "## recommended_items - user_items\n",
    "len(recommended_items)"
   ]
  },
  {
   "cell_type": "code",
   "execution_count": 30,
   "metadata": {},
   "outputs": [
    {
     "data": {
      "text/html": [
       "<div>\n",
       "<style scoped>\n",
       "    .dataframe tbody tr th:only-of-type {\n",
       "        vertical-align: middle;\n",
       "    }\n",
       "\n",
       "    .dataframe tbody tr th {\n",
       "        vertical-align: top;\n",
       "    }\n",
       "\n",
       "    .dataframe thead th {\n",
       "        text-align: right;\n",
       "    }\n",
       "</style>\n",
       "<table border=\"1\" class=\"dataframe\">\n",
       "  <thead>\n",
       "    <tr style=\"text-align: right;\">\n",
       "      <th></th>\n",
       "      <th>address</th>\n",
       "      <th>attributes</th>\n",
       "      <th>business_id</th>\n",
       "      <th>categories</th>\n",
       "      <th>city</th>\n",
       "      <th>hours</th>\n",
       "      <th>is_open</th>\n",
       "      <th>latitude</th>\n",
       "      <th>longitude</th>\n",
       "      <th>name</th>\n",
       "      <th>neighborhood</th>\n",
       "      <th>postal_code</th>\n",
       "      <th>review_count</th>\n",
       "      <th>stars</th>\n",
       "      <th>state</th>\n",
       "    </tr>\n",
       "  </thead>\n",
       "  <tbody>\n",
       "    <tr>\n",
       "      <th>33553</th>\n",
       "      <td>3015 S Valley View Blvd, Ste 100</td>\n",
       "      <td>{'BusinessAcceptsCreditCards': True}</td>\n",
       "      <td>MPGrHMnDFzXCr-EtNSDh2g</td>\n",
       "      <td>[Automotive, Oil Change Stations, Smog Check S...</td>\n",
       "      <td>Las Vegas</td>\n",
       "      <td>{'Monday': '7:30-17:00', 'Thursday': '7:30-17:...</td>\n",
       "      <td>1</td>\n",
       "      <td>36.136304</td>\n",
       "      <td>-115.191512</td>\n",
       "      <td>Bob's Autodynamics</td>\n",
       "      <td>Westside</td>\n",
       "      <td>89102</td>\n",
       "      <td>15</td>\n",
       "      <td>4.0</td>\n",
       "      <td>NV</td>\n",
       "    </tr>\n",
       "  </tbody>\n",
       "</table>\n",
       "</div>"
      ],
      "text/plain": [
       "                                address                            attributes  \\\n",
       "33553  3015 S Valley View Blvd, Ste 100  {'BusinessAcceptsCreditCards': True}   \n",
       "\n",
       "                  business_id  \\\n",
       "33553  MPGrHMnDFzXCr-EtNSDh2g   \n",
       "\n",
       "                                              categories       city  \\\n",
       "33553  [Automotive, Oil Change Stations, Smog Check S...  Las Vegas   \n",
       "\n",
       "                                                   hours  is_open   latitude  \\\n",
       "33553  {'Monday': '7:30-17:00', 'Thursday': '7:30-17:...        1  36.136304   \n",
       "\n",
       "        longitude                name neighborhood postal_code  review_count  \\\n",
       "33553 -115.191512  Bob's Autodynamics     Westside       89102            15   \n",
       "\n",
       "       stars state  \n",
       "33553    4.0    NV  "
      ]
     },
     "execution_count": 30,
     "metadata": {},
     "output_type": "execute_result"
    }
   ],
   "source": [
    "df_bus[df_bus['business_id'] == recommended_items[0]]"
   ]
  },
  {
   "cell_type": "code",
   "execution_count": null,
   "metadata": {},
   "outputs": [],
   "source": []
  }
 ],
 "metadata": {
  "kernelspec": {
   "display_name": "Python 3",
   "language": "python",
   "name": "python3"
  },
  "language_info": {
   "codemirror_mode": {
    "name": "ipython",
    "version": 3
   },
   "file_extension": ".py",
   "mimetype": "text/x-python",
   "name": "python",
   "nbconvert_exporter": "python",
   "pygments_lexer": "ipython3",
   "version": "3.5.2"
  }
 },
 "nbformat": 4,
 "nbformat_minor": 2
}
